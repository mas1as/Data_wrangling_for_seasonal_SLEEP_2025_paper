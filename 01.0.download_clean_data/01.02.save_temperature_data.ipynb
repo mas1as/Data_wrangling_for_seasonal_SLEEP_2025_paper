{
 "cells": [
  {
   "cell_type": "code",
   "execution_count": null,
   "id": "f3861f87",
   "metadata": {},
   "outputs": [],
   "source": [
    "import pandas as pd\n",
    "import numpy as np\n",
    "import pyarrow as pa\n",
    "import pyarrow.parquet as pq\n",
    "\n",
    "import datetime\n",
    "import pytz\n",
    "\n",
    "pd.options.mode.chained_assignment = None  # default='warn'"
   ]
  },
  {
   "cell_type": "code",
   "execution_count": null,
   "id": "fd4ec120",
   "metadata": {},
   "outputs": [],
   "source": [
    "mapping = {'bathroom1': 'Bathroom', \n",
    "        'WC1': 'Bathroom',\n",
    "        'kitchen': 'Kitchen',\n",
    "        'hallway': 'Hallway',\n",
    "        'corridor1': 'Hallway',\n",
    "        'dining room': 'Dining Room',\n",
    "        'living room': 'Living Room',\n",
    "        'lounge': 'Lounge',\n",
    "        'study': 'Study',\n",
    "        'office': 'Office',#\n",
    "        'conservatory': 'Conservatory',\n",
    "        'bedroom1': 'Bedroom',\n",
    "        'main door':'Front door',\n",
    "        'front door': 'Front door',\n",
    "        'back door': 'Back door',\n",
    "        'cellar': 'Cellar',\n",
    "          'garage': 'Garage',\n",
    "          'secondary':'Secondary',\n",
    "          'fridge door': 'Fridge Door'} "
   ]
  },
  {
   "cell_type": "code",
   "execution_count": null,
   "id": "36240c56",
   "metadata": {},
   "outputs": [],
   "source": [
    "temp = pd.read_parquet('Ambient_Temperature.parquet', engine='pyarrow')\n",
    "temp['participant_id'] = temp['patient_id'].apply(lambda x: x[:5])\n",
    "temp = temp[['participant_id','start_date','location_name','value']]\n",
    "\n",
    "temp['location_name'] = temp['location_name'].map(lambda x:mapping[x])\n",
    "ids = temp['participant_id'].unique()"
   ]
  },
  {
   "cell_type": "code",
   "execution_count": null,
   "id": "b5d8b6e3",
   "metadata": {},
   "outputs": [],
   "source": [
    "def prepare_for_stats( df, location, participant):\n",
    "    df = df[(df['location_name']==location)&(df['participant_id']==participant)].reset_index(drop=True)\n",
    "    df['datetime'] = pd.to_datetime(df['start_date']).dt.tz_localize(tz='UTC')#.dt.round('1T')\n",
    "    df['datetime'] =  df['datetime'].dt.round('1T')\n",
    "    if df['datetime'].dt.tz!='Europe/London':\n",
    "        df['datetime'] = df['datetime'].dt.tz_convert(pytz.timezone('Europe/London'))\n",
    "    df['date'] =  df['datetime'].dt.date\n",
    "    df['flag']=False\n",
    "    if ((df['value'].values < 0).any()==True):\n",
    "        print('Found negative value, original data size', len(df))\n",
    "        df['delta_t'] = abs(df['value'].shift(-1)-df['value'])\n",
    "        df['flag'] = np.where((df['value']<0)&(df['delta_t']>3),True, False)\n",
    "#         df = df[df['flag']!=True]\n",
    "#         print('after aapplying conditions ', len(df))\n",
    "    if df.duplicated(['datetime']).sum()!=0:\n",
    "        df['duplicates']=df.duplicated(['datetime']).sum()\n",
    "        print('Found some duplicate times, removing')\n",
    "        df = df.drop_duplicates(subset=['datetime'],keep='first')#\n",
    "\n",
    "    df['noon'] = df['datetime'].dt.floor('D') + pd.Timedelta(7, unit='h')\n",
    "    df['starts'] = (df['datetime']-df['noon'].iloc[0]).dt.total_seconds()/3600\n",
    "    df['ends'] = df['starts'].shift(-1)\n",
    "    df['duration'] = df['ends'] - df['starts']\n",
    "    \n",
    "    df['remove_value?']='no'\n",
    "    df.loc[df['duration']>=24, ['remove_value?']] = 'yes'\n",
    "    df.loc[df['flag']==True, ['remove_value?']] = 'yes'\n",
    "    \n",
    "    return df[['participant_id','datetime', 'location_name', 'value','start_date','remove_value?','duration','flag']].reset_index(drop=True)\n",
    "\n",
    "\n",
    "def append_row(df, new_df):\n",
    "    return pd.concat([ df, new_df]).reset_index(drop=True)\n",
    "    "
   ]
  },
  {
   "cell_type": "code",
   "execution_count": null,
   "id": "13e28421",
   "metadata": {},
   "outputs": [],
   "source": [
    "def start_temp_table():\n",
    "    return pd.DataFrame(columns=['participant_id','datetime', 'location_name', 'value','start_date','remove_value?','duration','flag'])\n",
    "    \n",
    "def update_temp_table(home_number, all_df, participant, df):\n",
    "    \n",
    "    locations =  ['Bedroom','Lounge','Kitchen','Hallway','Bathroom']\n",
    "    for room in locations: \n",
    "        if len(all_df[(all_df['location_name']==room)&(all_df['participant_id']==participant)])!=0:\n",
    "            new_df = prepare_for_stats(all_df, room, participant)\n",
    "            df = append_row(df, new_df)\n",
    "\n",
    "        else:\n",
    "            print('not environmental info at all for ', participant, room)\n",
    "\n",
    "    return df"
   ]
  },
  {
   "cell_type": "code",
   "execution_count": null,
   "id": "3494cdc6",
   "metadata": {},
   "outputs": [],
   "source": [
    "table = start_temp_table()\n",
    "\n",
    "for num_participant, participant in enumerate(ids):\n",
    "        print('current length table:', len(table))\n",
    "        print('.....................now doing participant: ', num_participant, participant)\n",
    "        table = update_temp_table(num_participant, temp, participant, table) \n",
    "        df = pa.Table.from_pandas(table)\n",
    "        pq.write_table(df, 'all_participants_temperature_clean_data_09_FEB_2024.parquet', compression='BROTLI')\n",
    "\n",
    "table"
   ]
  },
  {
   "cell_type": "code",
   "execution_count": null,
   "id": "97752cc0",
   "metadata": {},
   "outputs": [],
   "source": [
    "len(table['participant_id'].unique())"
   ]
  },
  {
   "cell_type": "code",
   "execution_count": null,
   "id": "fac1f162",
   "metadata": {},
   "outputs": [],
   "source": [
    "len(table[table.isna().any(axis=1)])*100/len(table)"
   ]
  },
  {
   "cell_type": "code",
   "execution_count": null,
   "id": "a6efb06c",
   "metadata": {},
   "outputs": [],
   "source": []
  }
 ],
 "metadata": {
  "kernelspec": {
   "display_name": "Python 3 (ipykernel)",
   "language": "python",
   "name": "python3"
  },
  "language_info": {
   "codemirror_mode": {
    "name": "ipython",
    "version": 3
   },
   "file_extension": ".py",
   "mimetype": "text/x-python",
   "name": "python",
   "nbconvert_exporter": "python",
   "pygments_lexer": "ipython3",
   "version": "3.12.4"
  }
 },
 "nbformat": 4,
 "nbformat_minor": 5
}
