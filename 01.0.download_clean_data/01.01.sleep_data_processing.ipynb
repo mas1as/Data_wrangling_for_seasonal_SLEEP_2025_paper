{
 "cells": [
  {
   "cell_type": "code",
   "execution_count": null,
   "id": "93cc8528",
   "metadata": {},
   "outputs": [],
   "source": [
    "import numpy as np\n",
    "import pandas as pd\n",
    "import datetime\n",
    "import pytz\n",
    "#%load_ext autoreload\n",
    "\n",
    "import pyarrow as pa\n",
    "import pyarrow.parquet as pq\n",
    "\n",
    "pd.options.mode.chained_assignment = None  # default='warn'"
   ]
  },
  {
   "cell_type": "code",
   "execution_count": null,
   "id": "a043ab1f",
   "metadata": {},
   "outputs": [],
   "source": [
    "sleep = pd.read_parquet('Sleep_Mat.parquet', engine='pyarrow')\n",
    "sleep['ID'] = sleep['patient_id'].apply(lambda x: x[:5])\n",
    "sleep"
   ]
  },
  {
   "cell_type": "code",
   "execution_count": null,
   "id": "33230028",
   "metadata": {},
   "outputs": [],
   "source": [
    "sleep['source'].unique()"
   ]
  },
  {
   "cell_type": "code",
   "execution_count": null,
   "id": "1cc9400d",
   "metadata": {},
   "outputs": [],
   "source": [
    "len(sleep['ID'].unique())"
   ]
  },
  {
   "cell_type": "code",
   "execution_count": null,
   "id": "17271778",
   "metadata": {},
   "outputs": [],
   "source": [
    "def process_sleep_mat(patient_id, df):\n",
    "    df = df[df['ID']==patient_id].reset_index(drop=True)\n",
    "    df.loc[:,'start_date_tz'] = pd.to_datetime(df['start_date']).dt.tz_localize(tz='UTC')#\n",
    "    df['duplicates']=0\n",
    "    df = df.sort_values(by=['start_date_tz'])\n",
    "    if df.duplicated(['start_date_tz']).sum()!=0:\n",
    "        df['duplicates']=df.duplicated(['start_date_tz']).sum()\n",
    "        print('Found some duplicate times, removing')\n",
    "        df = df.drop_duplicates(subset=['start_date_tz'],keep='first')#\n",
    "        \n",
    "    return df[['ID','start_date_tz','state','snoring','duplicates','patient_id','start_date','heart_rate','respiratory_rate','source']]"
   ]
  },
  {
   "cell_type": "code",
   "execution_count": null,
   "id": "b1f7791d",
   "metadata": {},
   "outputs": [],
   "source": [
    "df = pd.DataFrame(columns=['ID','start_date_tz', 'state','snoring','duplicates','day','patient_id','value','start_date','heart_rate','respiratory_rate','duration_in_period'])\n",
    "for i in sleep['ID'].unique():\n",
    "        i_df = process_sleep_mat(i, sleep)\n",
    "        df = pd.concat([df,i_df], ignore_index=True)\n",
    "        print(i,len(df))\n",
    "\n",
    "df"
   ]
  },
  {
   "cell_type": "code",
   "execution_count": null,
   "id": "b003e558",
   "metadata": {},
   "outputs": [],
   "source": [
    "df2 = pa.Table.from_pandas(df)\n",
    "pq.write_table(df2, 'clean_sleep_data.parquet', compression='BROTLI')"
   ]
  }
 ],
 "metadata": {
  "kernelspec": {
   "display_name": "Python 3 (ipykernel)",
   "language": "python",
   "name": "python3"
  },
  "language_info": {
   "codemirror_mode": {
    "name": "ipython",
    "version": 3
   },
   "file_extension": ".py",
   "mimetype": "text/x-python",
   "name": "python",
   "nbconvert_exporter": "python",
   "pygments_lexer": "ipython3",
   "version": "3.12.4"
  }
 },
 "nbformat": 4,
 "nbformat_minor": 5
}
