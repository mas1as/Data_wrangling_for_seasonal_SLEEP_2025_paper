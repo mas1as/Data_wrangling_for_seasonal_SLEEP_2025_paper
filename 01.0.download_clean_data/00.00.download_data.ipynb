{
 "cells": [
  {
   "cell_type": "code",
   "execution_count": null,
   "id": "f08904ac",
   "metadata": {},
   "outputs": [],
   "source": [
    "import numpy as np\n",
    "import pandas as pd\n",
    "import datetime\n",
    "import dcarte\n",
    "import pytz\n",
    "#%load_ext autoreload\n",
    "\n",
    "import pyarrow as pa\n",
    "import pyarrow.parquet as pq\n",
    "\n",
    "pd.options.mode.chained_assignment = None  # default='warn'"
   ]
  },
  {
   "cell_type": "code",
   "execution_count": null,
   "id": "44190b6f",
   "metadata": {},
   "outputs": [],
   "source": [
    "patient = dcarte.load('Patients','lookup',reload=False)\n",
    "df = pa.Table.from_pandas(patient)\n",
    "pq.write_table(df, 'Patients_lookup.parquet', compression='BROTLI')\n"
   ]
  },
  {
   "cell_type": "code",
   "execution_count": null,
   "id": "5efc5271",
   "metadata": {},
   "outputs": [],
   "source": [
    "sleep = dcarte.load('Sleep_Mat','raw', reload=False)\n",
    "df = pa.Table.from_pandas(sleep)\n",
    "pq.write_table(df, 'Sleep_Mat.parquet', compression='BROTLI')\n",
    "sleep.head(3)"
   ]
  },
  {
   "cell_type": "code",
   "execution_count": null,
   "id": "a546b18c",
   "metadata": {},
   "outputs": [],
   "source": [
    "temp = dcarte.load('Ambient_Temperature','raw', reload=False)\n",
    "df = pa.Table.from_pandas(temp)\n",
    "pq.write_table(df, 'Ambient_Temperature.parquet', compression='BROTLI')\n",
    "temp.head(3)"
   ]
  },
  {
   "cell_type": "code",
   "execution_count": null,
   "id": "91719161",
   "metadata": {},
   "outputs": [],
   "source": [
    "light = dcarte.load('Light','raw', reload=False)\n",
    "df = pa.Table.from_pandas(light)\n",
    "pq.write_table(df, 'Light.parquet', compression='BROTLI')\n",
    "light.head(3)"
   ]
  }
 ],
 "metadata": {
  "kernelspec": {
   "display_name": "Python 3 (ipykernel)",
   "language": "python",
   "name": "python3"
  },
  "language_info": {
   "codemirror_mode": {
    "name": "ipython",
    "version": 3
   },
   "file_extension": ".py",
   "mimetype": "text/x-python",
   "name": "python",
   "nbconvert_exporter": "python",
   "pygments_lexer": "ipython3",
   "version": "3.12.4"
  }
 },
 "nbformat": 4,
 "nbformat_minor": 5
}
