{
 "cells": [
  {
   "cell_type": "code",
   "execution_count": null,
   "id": "666f68fb",
   "metadata": {},
   "outputs": [],
   "source": [
    "import pandas as pd\n",
    "import numpy as np\n",
    "import pyarrow as pa\n",
    "import pyarrow.parquet as pq\n",
    "import datetime\n",
    "import pytz\n",
    "\n",
    "from astral import LocationInfo\n",
    "from astral.sun import sun\n",
    "\n",
    "pd.options.mode.chained_assignment = None  # default='warn'\n",
    "pd.set_option('display.max_columns', None)"
   ]
  },
  {
   "cell_type": "code",
   "execution_count": null,
   "id": "c611a31a",
   "metadata": {},
   "outputs": [],
   "source": [
    "light = pd.read_parquet('all_participants_light_clean_data_09_FEB_2024.parquet', engine='pyarrow')\n",
    "light['duration'] = light['duration']*60\n",
    "\n",
    "light = light[~light['duration'].isna()]\n",
    "light.head(4)"
   ]
  },
  {
   "cell_type": "code",
   "execution_count": null,
   "id": "32d66984",
   "metadata": {},
   "outputs": [],
   "source": [
    "total = len(light)\n",
    "to_remove = len(light[light['remove_value?']!='no'])\n",
    "total, to_remove, 100*to_remove/total"
   ]
  },
  {
   "cell_type": "code",
   "execution_count": null,
   "id": "b98f3698",
   "metadata": {},
   "outputs": [],
   "source": [
    "temperature = pd.read_parquet('all_participants_temperature_clean_data_09_FEB_2024.parquet', engine='pyarrow')\n",
    "temperature['duration'] = temperature['duration']*60\n",
    "\n",
    "temperature = temperature[~temperature['duration'].isna()]\n",
    "temperature.head(4)"
   ]
  },
  {
   "cell_type": "code",
   "execution_count": null,
   "id": "be24d7de",
   "metadata": {},
   "outputs": [],
   "source": [
    "temperature[(temperature['flag']!=False)]\n",
    "to_remove_bc_flag = len(temperature[(temperature['flag']!=False)])"
   ]
  },
  {
   "cell_type": "code",
   "execution_count": null,
   "id": "ae454615",
   "metadata": {},
   "outputs": [],
   "source": [
    "total = len(temperature)\n",
    "to_remove_bc_didnt_change = len(temperature[(temperature['remove_value?']!='no')&(temperature['flag']==False)])\n",
    "total, to_remove, 100*to_remove_bc_didnt_change/total, 100*to_remove_bc_flag/total"
   ]
  }
 ],
 "metadata": {
  "kernelspec": {
   "display_name": "Python 3 (ipykernel)",
   "language": "python",
   "name": "python3"
  },
  "language_info": {
   "codemirror_mode": {
    "name": "ipython",
    "version": 3
   },
   "file_extension": ".py",
   "mimetype": "text/x-python",
   "name": "python",
   "nbconvert_exporter": "python",
   "pygments_lexer": "ipython3",
   "version": "3.12.4"
  }
 },
 "nbformat": 4,
 "nbformat_minor": 5
}
