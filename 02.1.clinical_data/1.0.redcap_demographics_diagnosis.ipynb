{
 "cells": [
  {
   "cell_type": "code",
   "execution_count": null,
   "id": "aaf64d18",
   "metadata": {},
   "outputs": [],
   "source": [
    "import dcarte\n",
    "import pandas as pd\n",
    "import numpy as np\n",
    "import matplotlib.pyplot as plt\n",
    "import matplotlib.cm as cm\n",
    "from matplotlib.gridspec import GridSpec\n",
    "\n",
    "import pyarrow as pa\n",
    "import pyarrow.parquet as pq\n",
    "\n",
    "import seaborn as sns\n",
    "pd.set_option('display.max_columns', None)"
   ]
  },
  {
   "cell_type": "code",
   "execution_count": null,
   "id": "048a94f2",
   "metadata": {},
   "outputs": [],
   "source": [
    "ids = np.load('ids_seven_days_each_five_bimonth.npy')\n",
    "len(ids)"
   ]
  },
  {
   "cell_type": "code",
   "execution_count": null,
   "id": "a5a37786",
   "metadata": {},
   "outputs": [],
   "source": [
    "patient = dcarte.load('Patients','lookup',reload=False)\n",
    "patient['participant_id'] = patient['id'].apply(lambda x:x[:5])\n",
    "patient = patient[patient['participant_id'].isin(ids)]\n",
    "#patient"
   ]
  },
  {
   "cell_type": "code",
   "execution_count": null,
   "id": "082d4544",
   "metadata": {},
   "outputs": [],
   "source": [
    "dyads = pd.read_excel('dyads_unprotected.xlsx')\n",
    "\n",
    "dyads['participant_id'] = dyads['Research ID'].apply(lambda x:x[:5])\n",
    "dyads = dyads[dyads['participant_id'].isin(ids)]\n",
    "dyads"
   ]
  },
  {
   "cell_type": "code",
   "execution_count": null,
   "id": "d9213261",
   "metadata": {},
   "outputs": [],
   "source": [
    "demographics = pd.read_csv('redcap_16_nov_2023/Demographics_MinderHealthManageme_DATA_LABELS_2023-11-16_1127.csv')\n",
    "#demographics.columns.to_list()"
   ]
  },
  {
   "cell_type": "code",
   "execution_count": null,
   "id": "a6c171cc",
   "metadata": {},
   "outputs": [],
   "source": [
    "demographics = demographics[['Dyad number', 'Year of birth PwD',\n",
    " 'Gender PwD','Clinical Diagnosis (choice=Alzheimers Disease (typical - late onset))',\n",
    " 'Clinical Diagnosis (choice=Alzheimers Disease (atypical - early onset))',\n",
    " 'Clinical Diagnosis (choice=Alzheimers Disease (atypical - posterior cortical atrophy variant))',\n",
    " 'Clinical Diagnosis (choice=Alzheimers Disease (atypical - cortico-basal syndrome))',\n",
    " 'Clinical Diagnosis (choice=Alzheimers Disease (atypical - progressive aphasia variant))',\n",
    " 'Clinical Diagnosis (choice=Lewy Body Dementia)',\n",
    " 'Clinical Diagnosis (choice=Dementia in Parkinsons Disease)',\n",
    " 'Clinical Diagnosis (choice=Frontotemporal dementia (unspecified))',\n",
    " 'Clinical Diagnosis (choice=Frontotemporal dementia (behavioural variant/Picks disease))',\n",
    " 'Clinical Diagnosis (choice=Frontotemporal dementia (language variant/Primary Progressive Aphasia))',\n",
    " 'Clinical Diagnosis (choice=Vascular dementia)',\n",
    " 'Clinical Diagnosis (choice=Mild cognitive impairment (MCI))',\n",
    " 'Clinical Diagnosis (choice=Young-onset dementia)',\n",
    " 'Clinical Diagnosis (choice=Alcohol-related brain damage)',\n",
    " 'Clinical Diagnosis (choice=Mixed Alzheimers and Vascular Dementia)',\n",
    " 'Clinical Diagnosis (choice=Dementia in Alzheimer disease, atypical or mixed type)',\n",
    " 'Clinical Diagnosis (choice=Normal Pressure Hydrocephalus)',\n",
    " 'Clinical Diagnosis (choice=Traumatic Brain Injury)',\n",
    " 'Clinical Diagnosis (choice=No dementia)',\n",
    " 'Clinical Diagnosis (choice=Stroke)',\n",
    " 'Clinical Diagnosis (choice=Frailty)']]\n",
    "#diagnosis, imaging results and regions affected, comorbidities, smoke, drink, house style, mobility, pets\n",
    "demographics  = demographics.rename(columns={\"Dyad number\": \"DYAD\"})\n",
    "demographics.head(3)"
   ]
  },
  {
   "cell_type": "code",
   "execution_count": null,
   "id": "18ba7dbb",
   "metadata": {},
   "outputs": [],
   "source": [
    "alzheimers = ['Clinical Diagnosis (choice=Alzheimers Disease (typical - late onset))',\n",
    " 'Clinical Diagnosis (choice=Alzheimers Disease (atypical - early onset))','Clinical Diagnosis (choice=Alzheimers Disease (atypical - posterior cortical atrophy variant))',\n",
    " 'Clinical Diagnosis (choice=Alzheimers Disease (atypical - cortico-basal syndrome))','Clinical Diagnosis (choice=Alzheimers Disease (atypical - progressive aphasia variant))']\n",
    "demographics['alzheimers'] = demographics[alzheimers].ne('Unchecked').any(axis=1)\n",
    "dementias =['Clinical Diagnosis (choice=Lewy Body Dementia)','Clinical Diagnosis (choice=Dementia in Parkinsons Disease)','Clinical Diagnosis (choice=Frontotemporal dementia (unspecified))', 'Clinical Diagnosis (choice=Frontotemporal dementia (behavioural variant/Picks disease))',\n",
    " 'Clinical Diagnosis (choice=Frontotemporal dementia (language variant/Primary Progressive Aphasia))','Clinical Diagnosis (choice=Vascular dementia)','Clinical Diagnosis (choice=Young-onset dementia)']\n",
    "demographics['dementias'] = demographics[dementias].ne('Unchecked').any(axis=1)\n",
    "demographics['alzheimer_and_dementia'] = demographics[['Clinical Diagnosis (choice=Mixed Alzheimers and Vascular Dementia)','Clinical Diagnosis (choice=Dementia in Alzheimer disease, atypical or mixed type)']].ne('Unchecked').any(axis=1)\n",
    "demographics['mci'] = demographics[['Clinical Diagnosis (choice=Mild cognitive impairment (MCI))']].ne('Unchecked').any(axis=1)\n",
    "\n",
    "demographics"
   ]
  },
  {
   "cell_type": "code",
   "execution_count": null,
   "id": "efe860a0",
   "metadata": {},
   "outputs": [],
   "source": [
    "merge1 = dyads.merge(demographics, on='DYAD')\n",
    "merge1 = merge1[['participant_id', 'Year of birth PwD',\n",
    "       'Gender PwD',\n",
    "       'Clinical Diagnosis (choice=Alzheimers Disease (typical - late onset))',\n",
    "       'Clinical Diagnosis (choice=Alzheimers Disease (atypical - early onset))',\n",
    "       'Clinical Diagnosis (choice=Alzheimers Disease (atypical - posterior cortical atrophy variant))',\n",
    "       'Clinical Diagnosis (choice=Alzheimers Disease (atypical - cortico-basal syndrome))',\n",
    "       'Clinical Diagnosis (choice=Alzheimers Disease (atypical - progressive aphasia variant))',\n",
    "       'Clinical Diagnosis (choice=Lewy Body Dementia)',\n",
    "       'Clinical Diagnosis (choice=Dementia in Parkinsons Disease)',\n",
    "       'Clinical Diagnosis (choice=Frontotemporal dementia (unspecified))',\n",
    "       'Clinical Diagnosis (choice=Frontotemporal dementia (behavioural variant/Picks disease))',\n",
    "       'Clinical Diagnosis (choice=Frontotemporal dementia (language variant/Primary Progressive Aphasia))',\n",
    "       'Clinical Diagnosis (choice=Vascular dementia)',\n",
    "       'Clinical Diagnosis (choice=Mild cognitive impairment (MCI))',\n",
    "       'Clinical Diagnosis (choice=Young-onset dementia)',\n",
    "       'Clinical Diagnosis (choice=Alcohol-related brain damage)',\n",
    "       'Clinical Diagnosis (choice=Mixed Alzheimers and Vascular Dementia)',\n",
    "       'Clinical Diagnosis (choice=Dementia in Alzheimer disease, atypical or mixed type)',\n",
    "       'Clinical Diagnosis (choice=Normal Pressure Hydrocephalus)',\n",
    "       'Clinical Diagnosis (choice=Traumatic Brain Injury)',\n",
    "       'Clinical Diagnosis (choice=No dementia)',\n",
    "       'Clinical Diagnosis (choice=Stroke)',\n",
    "       'Clinical Diagnosis (choice=Frailty)', 'alzheimers', 'dementias',\n",
    "       'alzheimer_and_dementia', 'mci']]\n"
   ]
  },
  {
   "cell_type": "code",
   "execution_count": null,
   "id": "0b0b5e28",
   "metadata": {},
   "outputs": [],
   "source": [
    "merge1.loc[merge1['alzheimers'] ==True, 'Diagnosis'] = 'Alzheimers'\n",
    "merge1.loc[merge1['dementias'] ==True, 'Diagnosis'] = 'Dementias'\n",
    "merge1.loc[merge1['mci'] ==True, 'Diagnosis'] = 'MCI'\n",
    "merge1.loc[(merge1['alzheimer_and_dementia'] ==True), 'Diagnosis'] = 'Alzheimers and Dementias'\n",
    "merge1.loc[(merge1['alzheimers'] ==True)&(merge1['dementias'] ==True), 'Diagnosis'] = 'Alzheimers and Dementias'\n",
    "\n",
    "merge1['alzheimer_diagnosis'] ='no'\n",
    "merge1.loc[(merge1['Diagnosis'] =='Alzheimers and Dementias')|(merge1['Diagnosis']=='Alzheimers'),'alzheimer_diagnosis'] = 'yes'\n",
    "merge1.loc[(merge1['Diagnosis'] =='Unknown'),'alzheimer_diagnosis'] = 'unknown'\n"
   ]
  },
  {
   "cell_type": "code",
   "execution_count": null,
   "id": "1eac474f",
   "metadata": {},
   "outputs": [],
   "source": [
    "merge1[merge1['participant_id']=='TbQch']"
   ]
  },
  {
   "cell_type": "code",
   "execution_count": null,
   "id": "7dec3f90",
   "metadata": {},
   "outputs": [],
   "source": [
    "merge1 = merge1[['participant_id', 'Year of birth PwD', 'Gender PwD','Diagnosis','alzheimer_diagnosis','Clinical Diagnosis (choice=Alzheimers Disease (typical - late onset))','Clinical Diagnosis (choice=Alzheimers Disease (atypical - early onset))',\n",
    "       'Clinical Diagnosis (choice=Alzheimers Disease (atypical - posterior cortical atrophy variant))','Clinical Diagnosis (choice=Alzheimers Disease (atypical - cortico-basal syndrome))',\n",
    "       'Clinical Diagnosis (choice=Alzheimers Disease (atypical - progressive aphasia variant))','Clinical Diagnosis (choice=Lewy Body Dementia)','Clinical Diagnosis (choice=Dementia in Parkinsons Disease)',\n",
    "       'Clinical Diagnosis (choice=Frontotemporal dementia (unspecified))','Clinical Diagnosis (choice=Frontotemporal dementia (behavioural variant/Picks disease))',\n",
    "       'Clinical Diagnosis (choice=Frontotemporal dementia (language variant/Primary Progressive Aphasia))', 'Clinical Diagnosis (choice=Vascular dementia)','Clinical Diagnosis (choice=Mild cognitive impairment (MCI))','Clinical Diagnosis (choice=Young-onset dementia)',\n",
    "       'Clinical Diagnosis (choice=Alcohol-related brain damage)','Clinical Diagnosis (choice=Mixed Alzheimers and Vascular Dementia)','Clinical Diagnosis (choice=Dementia in Alzheimer disease, atypical or mixed type)','Clinical Diagnosis (choice=Normal Pressure Hydrocephalus)',\n",
    "       'Clinical Diagnosis (choice=Traumatic Brain Injury)','Clinical Diagnosis (choice=No dementia)','Clinical Diagnosis (choice=Stroke)','Clinical Diagnosis (choice=Frailty)']]\n",
    "merge1"
   ]
  },
  {
   "cell_type": "markdown",
   "id": "93b1254e",
   "metadata": {},
   "source": [
    "merge2[merge2.isna().any(axis=1)]"
   ]
  },
  {
   "cell_type": "code",
   "execution_count": null,
   "id": "0ed43f63",
   "metadata": {},
   "outputs": [],
   "source": [
    "merge1.to_excel(\"redcap_demographics_diagnosis_nov16.xlsx\")"
   ]
  },
  {
   "cell_type": "code",
   "execution_count": null,
   "id": "2847c168",
   "metadata": {},
   "outputs": [],
   "source": [
    "merge1.groupby(by=['alzheimer_diagnosis']).count()"
   ]
  },
  {
   "cell_type": "code",
   "execution_count": null,
   "id": "f9035c19",
   "metadata": {},
   "outputs": [],
   "source": []
  }
 ],
 "metadata": {
  "kernelspec": {
   "display_name": "Python 3 (ipykernel)",
   "language": "python",
   "name": "python3"
  },
  "language_info": {
   "codemirror_mode": {
    "name": "ipython",
    "version": 3
   },
   "file_extension": ".py",
   "mimetype": "text/x-python",
   "name": "python",
   "nbconvert_exporter": "python",
   "pygments_lexer": "ipython3",
   "version": "3.12.4"
  }
 },
 "nbformat": 4,
 "nbformat_minor": 5
}
