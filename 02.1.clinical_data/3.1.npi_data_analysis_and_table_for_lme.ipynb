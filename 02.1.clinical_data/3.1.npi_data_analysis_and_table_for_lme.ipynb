{
 "cells": [
  {
   "cell_type": "code",
   "execution_count": null,
   "id": "e6560036",
   "metadata": {},
   "outputs": [],
   "source": [
    "import pandas as pd\n",
    "import numpy as np\n",
    "import matplotlib.pyplot as plt\n",
    "import matplotlib.cm as cm\n",
    "from matplotlib.gridspec import GridSpec\n",
    "import matplotlib.dates as mdates\n",
    "\n",
    "# import pyarrow as pa\n",
    "# import pyarrow.parquet as pq\n",
    "\n",
    "import seaborn as sns\n",
    "pd.set_option('display.max_columns', None)\n",
    "pd.set_option('display.max_rows', 13)"
   ]
  },
  {
   "cell_type": "code",
   "execution_count": null,
   "id": "f5670061",
   "metadata": {},
   "outputs": [],
   "source": [
    "npi = pd.read_excel('npi_values_30_NOV_23.xlsx')\n",
    "npi.columns\n",
    "#'FrequencyXSeverity', 'thalias_total',"
   ]
  },
  {
   "cell_type": "code",
   "execution_count": null,
   "id": "f934e17d",
   "metadata": {},
   "outputs": [],
   "source": [
    "# number of data with correction\n",
    "100-(len(npi[npi['type of date correction'].isna()])+len(npi[npi['type of date correction']=='keep original date']))*100/len(npi)"
   ]
  },
  {
   "cell_type": "code",
   "execution_count": null,
   "id": "33f8272f",
   "metadata": {},
   "outputs": [],
   "source": [
    "npi['type of date correction'].unique()"
   ]
  },
  {
   "cell_type": "code",
   "execution_count": null,
   "id": "5dd43767",
   "metadata": {},
   "outputs": [],
   "source": [
    "len(npi)"
   ]
  },
  {
   "cell_type": "code",
   "execution_count": null,
   "id": "c0f7ab52",
   "metadata": {},
   "outputs": [],
   "source": [
    "npi[['id', 'Event Name','datetime','amended datetime']]"
   ]
  },
  {
   "cell_type": "code",
   "execution_count": null,
   "id": "0a6bafcc",
   "metadata": {},
   "outputs": [],
   "source": [
    "#npi= npi[npi['amended datetime']!='-'].reset_index()"
   ]
  },
  {
   "cell_type": "code",
   "execution_count": null,
   "id": "14fa1fd1",
   "metadata": {},
   "outputs": [],
   "source": [
    "len(npi)"
   ]
  },
  {
   "cell_type": "markdown",
   "id": "6f7a0ceb",
   "metadata": {},
   "source": [
    "initial_dates = npi[['id','amended datetime']][npi['Event Name']=='Baseline']\n",
    "initial_dates = initial_dates.rename(columns={'amended datetime':'new_baseline_date'}).reset_index()\n",
    "npi = npi.merge(initial_dates, on=['id'],how='left')\n",
    "\n",
    "npi['check_new_diff_with_baseline'] = npi.apply(lambda x:((pd.to_datetime(x['amended datetime']) - x['new_baseline_date']).days\n",
    "                                                           if type(x['new_baseline_date'])!=float else '-'), axis=1)\n",
    "\n",
    "#### to check the time difference that i insert as formula in excel, everything fine except few weir cells\n",
    "#### npi[npi['new difference with timeline ']!=npi['check_new_diff_with_baseline']][['id','baseline_date', 'datetime','diff_with_baseline',  'type of date correction','new_baseline_date','amended datetime' ,\n",
    "####      'new difference with timeline ','check_new_diff_with_baseline']]\n",
    "\n",
    "npi['type of date correction'].unique()"
   ]
  },
  {
   "cell_type": "code",
   "execution_count": null,
   "id": "70e25db2",
   "metadata": {},
   "outputs": [],
   "source": [
    "maps= pd.read_excel('dyads_unprotected.xlsx')\n",
    "maps['id'] = maps['Research ID'].apply(lambda x:x[:5])\n",
    "npi = npi.merge(maps[['id','DYAD']], on='id',how='left')"
   ]
  },
  {
   "cell_type": "markdown",
   "id": "1335fec5",
   "metadata": {},
   "source": [
    "npi[['id','DYAD','Event Name','baseline_date', 'datetime','diff_with_baseline',  'type of date correction','new_baseline_date','amended datetime',\n",
    "     'new difference with timeline ']][npi['DYAD']==1021]"
   ]
  },
  {
   "cell_type": "code",
   "execution_count": null,
   "id": "13368104",
   "metadata": {},
   "outputs": [],
   "source": [
    "my_ids = npi.sort_values(by=['id'])['id'].unique()\n",
    "len(my_ids)"
   ]
  },
  {
   "cell_type": "code",
   "execution_count": null,
   "id": "3b13633e",
   "metadata": {},
   "outputs": [],
   "source": [
    "#checking my score vs score\n",
    "#npi[(npi['FrequencyXSeverity']==0)&(npi['thalias_total']!=0)]\n",
    "#npi[(npi['FrequencyXSeverity']>0)]"
   ]
  },
  {
   "cell_type": "code",
   "execution_count": null,
   "id": "f7f7f040",
   "metadata": {},
   "outputs": [],
   "source": [
    "fig, axs = plt.subplots(7, 10, figsize=(10*2.4, 7*3))\n",
    "count_var=-1\n",
    "fig.tight_layout(pad=2)\n",
    "\n",
    "for j in range(0,7):\n",
    "    for i in range(0,10):\n",
    "        count_var = count_var+1\n",
    "        if count_var<67:\n",
    "            data=npi[npi['id']==my_ids[count_var]]\n",
    "            clean_data = data[data['amended datetime']!='-']\n",
    "#             axs[j,i].plot(data['datetime'], data['thalias_total'], 'o-', color='tomato',linewidth=5)\n",
    "            axs[j,i].plot(clean_data['amended datetime'], clean_data['thalias_total'], 'o-', color='slateblue',linewidth=4, alpha=0.7)\n",
    "            axs[j,i].set_ylim(-2, data['thalias_total'].max()+5)\n",
    "\n",
    "            axs[j,i].text(0.5, 0.95, my_ids[count_var], color='black', horizontalalignment='center',\n",
    "                  verticalalignment='center', transform=axs[j,i].transAxes, fontsize=12)\n",
    "#             axs[j,i].text(0.5, 0.95, data['DYAD'].unique()[0], color='black', horizontalalignment='center',\n",
    "#                   verticalalignment='center', transform=axs[j,i].transAxes, fontsize=12)\n",
    "            axs[j,i].xaxis.set_major_formatter(mdates.DateFormatter(\"%Y-%b\"))\n",
    "            axs[j,i].tick_params(axis='x', rotation=45, labelsize=8)\n",
    "            axs[j,i].spines[['top']].set_visible(False)\n",
    "\n",
    "axs[0,5].text(0, 1.3, 'NPI Total Scores', color='black', horizontalalignment='center',\n",
    "                  verticalalignment='center', transform=axs[0,5].transAxes, fontsize=24)\n",
    "# axs[0,11].text(0, 1.33, 'Original Date', color='red', horizontalalignment='left',\n",
    "#                   verticalalignment='center', transform=axs[0,11].transAxes, fontsize=20)\n",
    "# axs[0,11].text(0, 1.2, 'Amended Date', color='blue', horizontalalignment='left',\n",
    "#                   verticalalignment='center', transform=axs[0,11].transAxes, fontsize=20)\n",
    "fig.savefig(\"npi_score_time.pdf\", bbox_inches = \"tight\")"
   ]
  },
  {
   "cell_type": "code",
   "execution_count": null,
   "id": "ca2b59b4",
   "metadata": {},
   "outputs": [],
   "source": [
    "fig, axs = plt.subplots(7, 10, figsize=(10*2.4, 7*3))\n",
    "count_var=-1\n",
    "fig.tight_layout(pad=2)\n",
    "\n",
    "for j in range(0,7):\n",
    "    for i in range(0,10):\n",
    "        count_var = count_var+1\n",
    "        if count_var<67:\n",
    "            data=npi[npi['id']==my_ids[count_var]]\n",
    "            clean_data = data[data['amended datetime']!='-']\n",
    "#             axs[j,i].plot(data['datetime'], data['thalias_total'], 'o-', color='tomato',linewidth=5)\n",
    "            axs[j,i].plot(clean_data['amended datetime'], clean_data['sleep'], 'o-', color='slateblue',linewidth=4, alpha=0.7)\n",
    "            axs[j,i].set_ylim(-2, data['sleep'].max()+5)\n",
    "\n",
    "            axs[j,i].text(0.5, 0.95, my_ids[count_var], color='black', horizontalalignment='center',\n",
    "                  verticalalignment='center', transform=axs[j,i].transAxes, fontsize=12)\n",
    "#             axs[j,i].text(0.5, 0.95, data['DYAD'].unique()[0], color='black', horizontalalignment='center',\n",
    "#                   verticalalignment='center', transform=axs[j,i].transAxes, fontsize=12)\n",
    "            axs[j,i].xaxis.set_major_formatter(mdates.DateFormatter(\"%Y-%b\"))\n",
    "            axs[j,i].tick_params(axis='x', rotation=45, labelsize=8)\n",
    "            axs[j,i].spines[['top']].set_visible(False)\n",
    "\n",
    "axs[0,5].text(0, 1.3, 'NPI Sleep Scores', color='black', horizontalalignment='center',\n",
    "                  verticalalignment='center', transform=axs[0,5].transAxes, fontsize=24)\n",
    "# axs[0,11].text(0, 1.33, 'Original Date', color='red', horizontalalignment='left',\n",
    "#                   verticalalignment='center', transform=axs[0,11].transAxes, fontsize=20)\n",
    "# axs[0,11].text(0, 1.2, 'Amended Date', color='blue', horizontalalignment='left',\n",
    "#                   verticalalignment='center', transform=axs[0,11].transAxes, fontsize=20)\n",
    "fig.savefig(\"npi_sleep_score_time.pdf\", bbox_inches = \"tight\")"
   ]
  },
  {
   "cell_type": "code",
   "execution_count": null,
   "id": "7e060ed1",
   "metadata": {},
   "outputs": [],
   "source": [
    "br"
   ]
  },
  {
   "cell_type": "code",
   "execution_count": null,
   "id": "fae423ff",
   "metadata": {},
   "outputs": [],
   "source": [
    "npi = npi[npi['amended datetime']!='-']"
   ]
  },
  {
   "cell_type": "code",
   "execution_count": null,
   "id": "593c3a03",
   "metadata": {},
   "outputs": [],
   "source": [
    "npi[['id', 'Event Name']].groupby(by='id').count().mean()"
   ]
  },
  {
   "cell_type": "code",
   "execution_count": null,
   "id": "cab3d665",
   "metadata": {},
   "outputs": [],
   "source": [
    "#npi[['amended datetime','thalias_total','sleep']]"
   ]
  },
  {
   "cell_type": "code",
   "execution_count": null,
   "id": "e81a1d8f",
   "metadata": {},
   "outputs": [],
   "source": [
    "count = npi[['id','sleep']].groupby(by=['id']).count().reset_index()\n",
    "\n",
    "plt.figure(figsize=(6,4))\n",
    "plt.hist(count['sleep'], bins=range(0,14,1),rwidth=0.9, color='tomato')\n",
    "\n",
    "#plt.yticks([2,4,9,14,19], rotation=0)\n",
    "plt.xticks([0.5,1.5,2.5,3.5,4.5,5.5,6.5,7.5,8.5,9.5,10.5,11.5,12.5],\n",
    "           [0,1,2,3,4,5,6,7,8,9,10,11,12], rotation=0)\n",
    "plt.xlabel('Number Scores Per Participant')\n",
    "plt.show()\n",
    "\n",
    "#count.describe()"
   ]
  },
  {
   "cell_type": "markdown",
   "id": "6e9c3c52",
   "metadata": {},
   "source": [
    "npi['thalias_total'].describe()"
   ]
  },
  {
   "cell_type": "code",
   "execution_count": null,
   "id": "7c6d00b7",
   "metadata": {},
   "outputs": [],
   "source": [
    "#npi['thalias_total'].describe()\n",
    "\n",
    "plt.figure(figsize=(6,4))\n",
    "plt.hist(npi['thalias_total'], bins=range(0,112,10),rwidth=0.9, color='tomato')\n",
    "\n",
    "#plt.yticks([1,3,5,7,9], rotation=0)\n",
    "plt.xticks([5,15,25,35,45,55,65,75,85,95,105],\n",
    "           ['0-9','10-19','20-29','30-39','40-49','50-59','60-69','70-79','80-89','90-99','100-109'], rotation=15)\n",
    "plt.xlabel('NPI Total Scores')\n",
    "plt.show()"
   ]
  },
  {
   "cell_type": "code",
   "execution_count": null,
   "id": "9f9422bd",
   "metadata": {},
   "outputs": [],
   "source": [
    "average = npi[['id','thalias_total']].groupby(by=['id']).mean().reset_index()\n",
    "\n",
    "plt.figure(figsize=(6,4))\n",
    "plt.hist(average['thalias_total'], bins=range(0,52,5),rwidth=0.9, color='tomato')\n",
    "\n",
    "plt.yticks([2,4,9,14,19], rotation=0)\n",
    "plt.xticks([2.5,7.5,12.5,17.5,22.5,27.5,32.5,37.5,42.5,47.5],\n",
    "           ['0-5','5-10','10-15','15-20','20-25','25-30','30-35','35-40','40-45','45-50'], rotation=0)\n",
    "plt.xlabel('NPI Total Score Average Per Participant')\n",
    "plt.show()\n"
   ]
  },
  {
   "cell_type": "code",
   "execution_count": null,
   "id": "c8faa347",
   "metadata": {},
   "outputs": [],
   "source": [
    "#average.describe()"
   ]
  },
  {
   "cell_type": "code",
   "execution_count": null,
   "id": "71728ac5",
   "metadata": {},
   "outputs": [],
   "source": [
    "plt.figure(figsize=(6,4))\n",
    "plt.hist(npi['sleep'], bins=range(0,14,1),rwidth=0.9, color='tomato')\n",
    "\n",
    "\n",
    "#plt.yticks([1,3,5,7,9], rotation=0)\n",
    "plt.xticks([0.5,1.5,2.5,3.5,4.5,5.5,6.5,7.5,8.5,9.5,10.5,11.5,12.5],\n",
    "           [0,1,2,3,4,5,6,7,8,9,10,11,12], rotation=0)\n",
    "plt.xlabel('NPI Sleep Scores')\n",
    "plt.show()"
   ]
  },
  {
   "cell_type": "code",
   "execution_count": null,
   "id": "efb424e5",
   "metadata": {},
   "outputs": [],
   "source": [
    "#npi['sleep'].describe()"
   ]
  },
  {
   "cell_type": "code",
   "execution_count": null,
   "id": "7f738411",
   "metadata": {},
   "outputs": [],
   "source": [
    "average = npi[['id','sleep']].groupby(by=['id']).mean().reset_index()\n",
    "\n",
    "plt.figure(figsize=(6,4))\n",
    "plt.hist(average['sleep'], bins=range(0,11,1),rwidth=0.9, color='tomato')\n",
    "\n",
    "#plt.yticks([2,4,9,14,19], rotation=0)\n",
    "plt.xticks([0.5,1.5,2.5,3.5,4.5,5.5,6.5,7.5,8.5,9.5],\n",
    "           [0,1,2,3,4,5,6,7,8,9], rotation=0)\n",
    "plt.xlabel('NPI Sleep Score Average Per Participant')\n",
    "plt.show()\n"
   ]
  },
  {
   "cell_type": "code",
   "execution_count": null,
   "id": "71026267",
   "metadata": {},
   "outputs": [],
   "source": [
    "npi[['id', 'Event Name','datetime','amended datetime']]"
   ]
  },
  {
   "cell_type": "code",
   "execution_count": null,
   "id": "00e3b56b",
   "metadata": {},
   "outputs": [],
   "source": [
    "#average.describe()"
   ]
  },
  {
   "cell_type": "code",
   "execution_count": null,
   "id": "ada5d7ec",
   "metadata": {},
   "outputs": [],
   "source": [
    "npi_lme = npi[['id', 'Event Name','datetime','type of date correction','amended datetime','thalias_total','thalias_total_frequency','thalias_total_sev',\n",
    "     'Total Distress Score','sleep','freq_sleep', 'sev_sleep',\n",
    "       'SLEEP:  Does the patient have difficulty sleeping (do not count as present if the patient simply gets up once or twice per night only to go to the bathroom and falls back asleep immediately)? Is he/she up at night? Does he/she wander at night, get dressed, or disturb your sleep? ',\n",
    "       'Does the patient have difficulty falling asleep?)',\n",
    "       'Does the patient get up during the night (do not count if the patient gets up once or twice per night only to go to the bathroom and falls back asleep immediately)?)',\n",
    "       'Does the patient wander, pace, or get involved in inappropriate activities at night?)',\n",
    "       'Does the patient awaken you during the night?)',\n",
    "       'Does the patient awaken at night, dress, and plan to go out thinking that it is morning and time to start the day?)',\n",
    "       'Does the patient awaken too early in the morning (earlier that was his/her habit)?)',\n",
    "       'Does the patient sleep excessively during the day?)',\n",
    "       'Does the patient have any other nighttime behaviours that bother you that we havent talked about?)','freq_delusions', 'sev_delusions', 'delusions',\n",
    "       'freq_hallucinations', 'sev_hallucinations', 'hallucinations',\n",
    "       'freq_agitation_aggression', 'sev_agitation_aggression',\n",
    "       'agitation_aggression', 'freq_depression_dysphoria',\n",
    "       'sev_depression_dysphoria', 'depression_dysphoria', 'freq_anxiety',\n",
    "       'sev_anxiety', 'anxiety', 'freq_elation_euphoria',\n",
    "       'sev_elation_euphoria', 'elation_euphoria', 'freq_apathy', 'sev_apathy',\n",
    "       'apathy', 'freq_disinhibition', 'sev_disinhibition', 'disinhibition',\n",
    "       'freq_irritability', 'sev_irritability', 'irritability',\n",
    "       'freq_aberrant_motor_beh', 'sev_aberrant_motor_beh',\n",
    "       'aberrant_motor_beh', 'freq_appetite', 'sev_appetite', 'appetite']]\n",
    "#npi_lme.info()\n",
    "\n",
    "npi_lme['amended month'] = pd.to_datetime(npi_lme['amended datetime']).dt.strftime('%B')#.month\n",
    "npi_lme['amended bimonth'] ='JanFeb'\n",
    "npi_lme.loc[(npi_lme['amended month']=='March')|(npi_lme['amended month']=='April'), 'amended bimonth'] = 'MarApr'\n",
    "npi_lme.loc[(npi_lme['amended month']=='May')|(npi_lme['amended month']=='June'), 'amended bimonth'] = 'MayJun'\n",
    "npi_lme.loc[(npi_lme['amended month']=='July')|(npi_lme['amended month']=='August'), 'amended bimonth'] = 'JulAug'\n",
    "npi_lme.loc[(npi_lme['amended month']=='September')|(npi_lme['amended month']=='October'), 'amended bimonth'] = 'SepOct'\n",
    "npi_lme.loc[(npi_lme['amended month']=='November')|(npi_lme['amended month']=='December'), 'amended bimonth'] = 'NovDec'\n",
    "\n",
    "\n",
    "npi_lme['month'] = pd.to_datetime(npi_lme['datetime']).dt.strftime('%B')#.month\n",
    "npi_lme['bimonth'] ='JanFeb'\n",
    "npi_lme.loc[(npi_lme['month']=='March')|(npi_lme['month']=='April'), 'bimonth'] = 'MarApr'\n",
    "npi_lme.loc[(npi_lme['month']=='May')|(npi_lme['month']=='June'), 'bimonth'] = 'MayJun'\n",
    "npi_lme.loc[(npi_lme['month']=='July')|(npi_lme['month']=='August'), 'bimonth'] = 'JulAug'\n",
    "npi_lme.loc[(npi_lme['month']=='September')|(npi_lme['month']=='October'), 'bimonth'] = 'SepOct'\n",
    "npi_lme.loc[(npi_lme['month']=='November')|(npi_lme['month']=='December'), 'bimonth'] = 'NovDec'\n",
    "npi_lme.head(3)"
   ]
  },
  {
   "cell_type": "code",
   "execution_count": null,
   "id": "a84ff095",
   "metadata": {},
   "outputs": [],
   "source": [
    "sorted_ids = pd.read_csv('sorted_ids_14_11_2023.csv')\n",
    "\n",
    "## here by dropping nulls I limit to the participants in my data\n",
    "npi_lme = npi_lme.merge(sorted_ids[['participant_id','min_date', 'max_date']], \n",
    "                                                                 left_on='id', right_on='participant_id', how='left')#.dropna()\n",
    "\n",
    "npi_lme['days_after_min_date'] = (pd.to_datetime(npi_lme['amended datetime'],dayfirst=True)-pd.to_datetime(npi_lme['min_date'],dayfirst=True)).dt.days\n",
    "npi_lme['closest_to_initial_day']=False\n",
    "npi_lme['absolute_days_after_min_date'] = abs(npi_lme['days_after_min_date'])\n",
    "npi_lme.loc[npi_lme.groupby('id', sort=False)['absolute_days_after_min_date'].idxmin(),'closest_to_initial_day']=True\n",
    "\n",
    "npi_lme['days_after_max_date'] = (pd.to_datetime(npi_lme['amended datetime'],dayfirst=True)-pd.to_datetime(npi_lme['max_date'],dayfirst=True)).dt.days\n",
    "npi_lme['closest_to_final_day']=False\n",
    "npi_lme['absolute_days_after_max_date'] = abs(npi_lme['days_after_max_date'])\n",
    "npi_lme.loc[npi_lme.groupby('id', sort=False)['absolute_days_after_max_date'].idxmin(),'closest_to_final_day']=True\n",
    "\n",
    "\n",
    "npi_lme = npi_lme[['id', 'Event Name',  'amended datetime','closest_to_initial_day','days_after_min_date',\n",
    "                   'closest_to_final_day', 'amended month', 'amended bimonth', 'participant_id', 'min_date', 'thalias_total',\n",
    "                   'thalias_total_frequency', 'thalias_total_sev', 'Total Distress Score',\n",
    "       'sleep', 'freq_sleep', 'sev_sleep',\n",
    "       'SLEEP:  Does the patient have difficulty sleeping (do not count as present if the patient simply gets up once or twice per night only to go to the bathroom and falls back asleep immediately)? Is he/she up at night? Does he/she wander at night, get dressed, or disturb your sleep? ',\n",
    "       'Does the patient have difficulty falling asleep?)',\n",
    "       'Does the patient get up during the night (do not count if the patient gets up once or twice per night only to go to the bathroom and falls back asleep immediately)?)',\n",
    "       'Does the patient wander, pace, or get involved in inappropriate activities at night?)',\n",
    "       'Does the patient awaken you during the night?)',\n",
    "       'Does the patient awaken at night, dress, and plan to go out thinking that it is morning and time to start the day?)',\n",
    "       'Does the patient awaken too early in the morning (earlier that was his/her habit)?)',\n",
    "       'Does the patient sleep excessively during the day?)',\n",
    "       'Does the patient have any other nighttime behaviours that bother you that we havent talked about?)',\n",
    "        'freq_delusions', 'sev_delusions', 'delusions',\n",
    "       'freq_hallucinations', 'sev_hallucinations', 'hallucinations',\n",
    "       'freq_agitation_aggression', 'sev_agitation_aggression',\n",
    "       'agitation_aggression', 'freq_depression_dysphoria',\n",
    "       'sev_depression_dysphoria', 'depression_dysphoria', 'freq_anxiety',\n",
    "       'sev_anxiety', 'anxiety', 'freq_elation_euphoria',\n",
    "       'sev_elation_euphoria', 'elation_euphoria', 'freq_apathy', 'sev_apathy',\n",
    "       'apathy', 'freq_disinhibition', 'sev_disinhibition', 'disinhibition',\n",
    "       'freq_irritability', 'sev_irritability', 'irritability',\n",
    "       'freq_aberrant_motor_beh', 'sev_aberrant_motor_beh',\n",
    "       'aberrant_motor_beh', 'freq_appetite', 'sev_appetite', 'appetite', \n",
    "                'type of date correction', 'datetime',  'month', 'bimonth']]\n",
    "npi_lme "
   ]
  },
  {
   "cell_type": "code",
   "execution_count": null,
   "id": "0a38b141",
   "metadata": {},
   "outputs": [],
   "source": [
    "npi_lme = npi_lme.replace(np.nan, '.', regex=True)\n",
    "npi_lme = npi_lme.rename(columns={\"sleep\": \"npi_sleep\", \"thalias_total\": \"npi_total\",\n",
    "                                 'thalias_total_frequency':'total_frequency', 'thalias_total_sev':'total_severity',\n",
    "                                 'days_after_min_date':'time_in_study'})\n",
    " #       x['npi_sleep'] = npi.loc[found,'sleep'].values[0]\n",
    "  #      x['npi_total'] = npi.loc[found,'thalias_total'].values[0]"
   ]
  },
  {
   "cell_type": "code",
   "execution_count": null,
   "id": "e307436f",
   "metadata": {},
   "outputs": [],
   "source": [
    "npi_lme[npi_lme.isna().any(axis=1)]"
   ]
  },
  {
   "cell_type": "code",
   "execution_count": null,
   "id": "57b84037",
   "metadata": {},
   "outputs": [],
   "source": [
    "npi_lme[['amended datetime','amended bimonth']].groupby('amended bimonth').count()"
   ]
  },
  {
   "cell_type": "code",
   "execution_count": null,
   "id": "abb175b8",
   "metadata": {},
   "outputs": [],
   "source": [
    "br"
   ]
  },
  {
   "cell_type": "code",
   "execution_count": null,
   "id": "54c4c0fc",
   "metadata": {},
   "outputs": [],
   "source": [
    "npi_lme[['datetime','bimonth']].groupby('bimonth').count()"
   ]
  },
  {
   "cell_type": "code",
   "execution_count": null,
   "id": "5e2d3e74",
   "metadata": {},
   "outputs": [],
   "source": [
    "#npi_lme[['amended datetime','amended month']].groupby('amended month').count()"
   ]
  },
  {
   "cell_type": "code",
   "execution_count": null,
   "id": "0a01ee5d",
   "metadata": {},
   "outputs": [],
   "source": [
    "#npi_lme[['datetime','month']].groupby('month').count()"
   ]
  },
  {
   "cell_type": "code",
   "execution_count": null,
   "id": "c720da4d",
   "metadata": {},
   "outputs": [],
   "source": [
    "#brnpi_lme.to_csv('npi_values_30_NOV_23_for_lme.csv')"
   ]
  },
  {
   "cell_type": "code",
   "execution_count": null,
   "id": "2e090968",
   "metadata": {},
   "outputs": [],
   "source": []
  }
 ],
 "metadata": {
  "kernelspec": {
   "display_name": "Python 3 (ipykernel)",
   "language": "python",
   "name": "python3"
  },
  "language_info": {
   "codemirror_mode": {
    "name": "ipython",
    "version": 3
   },
   "file_extension": ".py",
   "mimetype": "text/x-python",
   "name": "python",
   "nbconvert_exporter": "python",
   "pygments_lexer": "ipython3",
   "version": "3.12.4"
  }
 },
 "nbformat": 4,
 "nbformat_minor": 5
}
