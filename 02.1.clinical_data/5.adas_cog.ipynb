{
 "cells": [
  {
   "cell_type": "code",
   "execution_count": null,
   "id": "c3086e0b",
   "metadata": {},
   "outputs": [],
   "source": [
    "import pandas as pd\n",
    "import numpy as np\n",
    "import matplotlib.pyplot as plt\n",
    "import matplotlib.cm as cm\n",
    "from matplotlib.gridspec import GridSpec\n",
    "\n",
    "import pyarrow as pa\n",
    "import pyarrow.parquet as pq\n",
    "\n",
    "import seaborn as sns\n",
    "pd.set_option('display.max_columns', None)"
   ]
  },
  {
   "cell_type": "code",
   "execution_count": null,
   "id": "8d651ee6",
   "metadata": {},
   "outputs": [],
   "source": [
    "dates_analysis = pd.read_csv('sorted_ids_06_FEB_2024.csv')\n",
    "#dates_analysis"
   ]
  },
  {
   "cell_type": "code",
   "execution_count": null,
   "id": "b901635c",
   "metadata": {},
   "outputs": [],
   "source": [
    "ids = np.load('ids_seven_days_each_five_bimonth.npy')\n",
    "\n",
    "\n",
    "patient = pd.read_parquet('Patients_lookup.parquet', engine='pyarrow')#dcarte.load('Patients','lookup',reload=False)\n",
    "patient['participant_id'] = patient['id'].apply(lambda x:x[:5])\n",
    "patient = patient[patient['participant_id'].isin(ids)]\n",
    "\n",
    "dyads = pd.read_excel('dyads_unprotected.xlsx')\n",
    "\n",
    "dyads['participant_id'] = dyads['Research ID'].apply(lambda x:x[:5])\n",
    "dyads = dyads[dyads['participant_id'].isin(ids)]\n",
    "\n",
    "adas = pd.read_csv('redcap_16_nov_2023/MinderHealthManageme_DATA_2024-02-12_1458.csv')\n",
    "                 #  MinderHealthManageme_DATA_LABELS_2024-02-09_1330.csv')\n",
    "#dyads[['DYAD','participant_id']]\n",
    "#print(dyads['DYAD'].unique())\n",
    "adas.columns"
   ]
  },
  {
   "cell_type": "code",
   "execution_count": null,
   "id": "78b90033",
   "metadata": {},
   "outputs": [],
   "source": [
    "adas = adas[(adas['total_score_adascog'].notnull())&adas['date_adascog'].notnull()].reset_index(drop=True)# \n",
    "\n",
    "#adas  = adas.rename(columns={\"participant's ID\": \"DYAD\"})\n",
    "adas  = adas.rename(columns={\"id_adascog\": \"DYAD\"})\n",
    "\n",
    "adas = adas[adas['DYAD']!='TU12'].reset_index(drop=True)\n",
    "print(len(adas))\n",
    "\n",
    "adas['DYAD'] = pd.to_numeric(adas['DYAD'])\n",
    "print(len(adas),len(adas['DYAD'].unique()))\n",
    "#adas[['DYAD','Test date','Total Score']]\n",
    "adas[['DYAD','date_adascog','total_score_adascog']]"
   ]
  },
  {
   "cell_type": "code",
   "execution_count": null,
   "id": "76a3c19a",
   "metadata": {},
   "outputs": [],
   "source": [
    "#adas = adas[['DYAD','Test date','Total Score']].merge(dyads[['DYAD','participant_id']], on='DYAD')\n",
    "adas = adas[['DYAD','date_adascog','total_score_adascog']].merge(dyads[['DYAD','participant_id']], on='DYAD')\n",
    "adas = adas[['participant_id','date_adascog','total_score_adascog']]\n",
    "print(len(adas),len(adas['participant_id'].unique()))\n",
    "adas['date'] = pd.to_datetime(adas['date_adascog'])\n",
    "adas"
   ]
  },
  {
   "cell_type": "code",
   "execution_count": null,
   "id": "bb9dd905",
   "metadata": {},
   "outputs": [],
   "source": [
    "adas = adas.merge(dates_analysis[['participant_id','min_date', 'max_date']],\n",
    "                  on='participant_id', how='left')\n",
    "adas"
   ]
  },
  {
   "cell_type": "code",
   "execution_count": null,
   "id": "8587fb98",
   "metadata": {},
   "outputs": [],
   "source": [
    "print(len(adas),len(adas['participant_id'].unique()))"
   ]
  },
  {
   "cell_type": "code",
   "execution_count": null,
   "id": "4b4b70d9",
   "metadata": {},
   "outputs": [],
   "source": [
    "adas['time_in_study'] = (adas['date']-pd.to_datetime(adas['min_date'])).dt.days\n",
    "adas['days_after_max_date'] = (adas['date']-pd.to_datetime(adas['max_date'])).dt.days\n",
    "adas = adas[(adas['time_in_study']>=0)&(adas['days_after_max_date']<=0)].reset_index(drop=True)\n",
    "adas['month'] = pd.to_datetime(adas['date']).dt.strftime('%B')#.month\n",
    "adas['bimonth'] ='JanFeb'\n",
    "adas.loc[(adas['month']=='March')|(adas['month']=='April'), 'bimonth'] = 'MarApr'\n",
    "adas.loc[(adas['month']=='May')|(adas['month']=='June'), 'bimonth'] = 'MayJun'\n",
    "adas.loc[(adas['month']=='July')|(adas['month']=='August'), 'bimonth'] = 'JulAug'\n",
    "adas.loc[(adas['month']=='September')|(adas['month']=='October'), 'bimonth'] = 'SepOct'\n",
    "adas.loc[(adas['month']=='November')|(adas['month']=='December'), 'bimonth'] = 'NovDec'\n",
    "\n",
    "adas.columns"
   ]
  },
  {
   "cell_type": "code",
   "execution_count": null,
   "id": "3e00dfda",
   "metadata": {},
   "outputs": [],
   "source": [
    "br  .to_csv('npi_values_30_NOV_23_for_lme.csv')"
   ]
  },
  {
   "cell_type": "code",
   "execution_count": null,
   "id": "d10e3ea0",
   "metadata": {},
   "outputs": [],
   "source": [
    "plt.figure(figsize=(6,4))\n",
    "plt.hist(adas['total_score_adascog'], bins=range(0,100,5),rwidth=0.9, color='tomato')\n",
    "\n",
    "\n",
    "#plt.yticks([1,3,5,7,9], rotation=0)\n",
    "#plt.xticks([0.5,5.5,10.5,15.5,20.5,25.5,30.5],[0,5,10,15,20,25,30], rotation=0)\n",
    "plt.xlabel('ADAS-Cog Score Per Participant')\n",
    "plt.show()"
   ]
  },
  {
   "cell_type": "code",
   "execution_count": null,
   "id": "a3396a05",
   "metadata": {},
   "outputs": [],
   "source": [
    "adas['date'].min(), adas['date'].max()"
   ]
  },
  {
   "cell_type": "code",
   "execution_count": null,
   "id": "08449d4a",
   "metadata": {},
   "outputs": [],
   "source": [
    "count = adas.groupby('participant_id').count().reset_index()\n",
    "plt.figure(figsize=(6,4))\n",
    "plt.hist(count['date'], bins=range(0,8,1),rwidth=0.9, color='tomato')\n",
    "\n",
    "\n",
    "#plt.yticks([1,3,5,7,9], rotation=0)\n",
    "plt.xticks([0.5,1.5,2.5,3.5,4.5,5.5,6.5],[0,1,2,3,4,5,6], rotation=0)\n",
    "plt.xlabel('Number ADAS-Cog Tests Per Participant')\n",
    "plt.show()"
   ]
  },
  {
   "cell_type": "code",
   "execution_count": null,
   "id": "401e7501",
   "metadata": {},
   "outputs": [],
   "source": [
    "count = adas.groupby('participant_id').mean().reset_index()\n",
    "count\n",
    "plt.figure(figsize=(6,4))\n",
    "plt.hist(count['total_score_adascog'], bins=range(0,80,4),rwidth=0.9, color='tomato')\n",
    "\n",
    "\n",
    "#plt.yticks([1,3,5,7,9], rotation=0)\n",
    "#plt.xticks([0.5,1.5,2.5,3.5,4.5,5.5,6.5],[0,1,2,3,4,5,6], rotation=0)\n",
    "plt.xlabel('Average ADAS-Cog Tests Per Participant')\n",
    "plt.show()"
   ]
  },
  {
   "cell_type": "code",
   "execution_count": null,
   "id": "dafd5f16",
   "metadata": {},
   "outputs": [],
   "source": []
  }
 ],
 "metadata": {
  "kernelspec": {
   "display_name": "Python 3 (ipykernel)",
   "language": "python",
   "name": "python3"
  },
  "language_info": {
   "codemirror_mode": {
    "name": "ipython",
    "version": 3
   },
   "file_extension": ".py",
   "mimetype": "text/x-python",
   "name": "python",
   "nbconvert_exporter": "python",
   "pygments_lexer": "ipython3",
   "version": "3.12.4"
  }
 },
 "nbformat": 4,
 "nbformat_minor": 5
}
