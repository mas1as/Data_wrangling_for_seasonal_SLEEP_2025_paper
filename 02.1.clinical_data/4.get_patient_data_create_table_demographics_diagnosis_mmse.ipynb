{
 "cells": [
  {
   "cell_type": "code",
   "execution_count": null,
   "id": "0f7185fe",
   "metadata": {},
   "outputs": [],
   "source": [
    "import dcarte\n",
    "import pandas as pd\n",
    "import numpy as np\n",
    "import matplotlib.pyplot as plt\n",
    "import datetime\n",
    "from matplotlib import colors\n",
    " \n",
    "pd.options.mode.chained_assignment = None  \n",
    "import seaborn as sns\n"
   ]
  },
  {
   "cell_type": "code",
   "execution_count": null,
   "id": "7731d611",
   "metadata": {},
   "outputs": [],
   "source": [
    "sorted_ids = pd.read_csv('sorted_ids_14_11_2023.csv')\n",
    "sorted_ids = sorted_ids[['participant_id', 'Days Of Data',  'period_of collection','min_date','max_date']]\n",
    "sorted_ids = sorted_ids.rename(columns={'min_date':'initial_date', 'max_date':'final_date'})\n",
    "sorted_ids"
   ]
  },
  {
   "cell_type": "code",
   "execution_count": null,
   "id": "78d2800b",
   "metadata": {},
   "outputs": [],
   "source": [
    "patient = dcarte.load('Patients','lookup',reload=False)\n",
    "\n",
    "patient['participant_id'] = patient['id'].apply(lambda x:x[:5])\n",
    "patient = patient[patient['participant_id'].isin(sorted_ids['participant_id'].unique())][['participant_id', 'birth_date', 'gender']]\n",
    "patient = patient.rename(columns={'birth_date':'birth_year'})\n",
    "patient"
   ]
  },
  {
   "cell_type": "code",
   "execution_count": null,
   "id": "9a28fdfa",
   "metadata": {},
   "outputs": [],
   "source": [
    "demographics = pd.read_excel('redcap_demographics_diagnosis_nov16.xlsx')\n",
    "demographics = demographics[['participant_id','Year of birth PwD', 'Gender PwD','Diagnosis', 'alzheimer_diagnosis']]\n",
    "demographics.head(3)"
   ]
  },
  {
   "cell_type": "code",
   "execution_count": null,
   "id": "6375e30b",
   "metadata": {},
   "outputs": [],
   "source": [
    "patient = patient.merge(demographics,on='participant_id',how='left')\n",
    "patient "
   ]
  },
  {
   "cell_type": "code",
   "execution_count": null,
   "id": "d3330873",
   "metadata": {},
   "outputs": [],
   "source": [
    "mmse = pd.read_excel(\"redcap_mmse_baseline_values_nov30.xlsx\")\n",
    "mmse = mmse[mmse['closest_to_initial_day']==True]\n",
    "mmse = mmse.rename(columns={'days_after_min_date':'date_difference_with_first_date_mmse'})\n",
    "mmse"
   ]
  },
  {
   "cell_type": "code",
   "execution_count": null,
   "id": "534cc5fa",
   "metadata": {},
   "outputs": [],
   "source": [
    "npi = pd.read_csv('npi_values_30_NOV_23_for_lme.csv')\n",
    "npi = npi[npi['closest_to_initial_day']==True]\n",
    "npi = npi.rename(columns={'time_in_study':'date_difference_with_first_date_npi','amended datetime':'date_test_npi'})\n",
    "npi = npi[['participant_id','date_test_npi', 'date_difference_with_first_date_npi','min_date', 'npi_total', 'npi_sleep']]\n",
    "npi"
   ]
  },
  {
   "cell_type": "code",
   "execution_count": null,
   "id": "03090d38",
   "metadata": {},
   "outputs": [],
   "source": [
    "patient = patient.merge(mmse[['participant_id', 'date_test_mmse', 'tot_score_mmse',\n",
    "                              'date_difference_with_first_date_mmse','min_date']],on='participant_id',how='left')\n",
    "patient = patient.merge(npi,on='participant_id',how='left')\n",
    "patient"
   ]
  },
  {
   "cell_type": "code",
   "execution_count": null,
   "id": "096035f0",
   "metadata": {},
   "outputs": [],
   "source": [
    "final = sorted_ids.merge(patient,on='participant_id')\n",
    "final"
   ]
  },
  {
   "cell_type": "code",
   "execution_count": null,
   "id": "c77b55ae",
   "metadata": {},
   "outputs": [],
   "source": [
    "difference_function = lambda row: pd.to_datetime(row['initial_date'],dayfirst=True).year - row['Year of birth PwD'] if pd.notnull(row['Year of birth PwD']) else pd.to_datetime(row['initial_date'],dayfirst=True).year - float(row['birth_year'])\n",
    "final['age_ate_start'] = final.apply(difference_function, axis=1)\n",
    "final['gender'] = final['gender'].replace('m', 'Man')\n",
    "final['gender'] = final['gender'].replace('f', 'Woman')\n",
    "final['Gender PwD'] = final['Gender PwD'].replace('Male', 'Man')\n",
    "final['Gender PwD'] = final['Gender PwD'].replace('Female', 'Woman')\n",
    "final"
   ]
  },
  {
   "cell_type": "code",
   "execution_count": null,
   "id": "444f8630",
   "metadata": {},
   "outputs": [],
   "source": [
    "final[['participant_id', 'Days Of Data', 'period_of collection',\n",
    "       'initial_date', 'final_date', 'age_ate_start','Year of birth PwD', 'birth_year', \n",
    "      'gender','Gender PwD', 'Diagnosis', 'alzheimer_diagnosis',\n",
    "       'date_test_mmse', 'tot_score_mmse',\n",
    "       'date_difference_with_first_date_mmse','date_test_npi',\n",
    "       'date_difference_with_first_date_npi', 'npi_sleep','npi_total', 'min_date_x','min_date_y']].to_excel('table_demographics_11_DEC_2023.xlsx')"
   ]
  },
  {
   "cell_type": "code",
   "execution_count": null,
   "id": "d87038f8",
   "metadata": {},
   "outputs": [],
   "source": [
    "final['Days Of Data'].sum()"
   ]
  },
  {
   "cell_type": "code",
   "execution_count": null,
   "id": "9a1eb1bf",
   "metadata": {},
   "outputs": [],
   "source": [
    "final.columns"
   ]
  }
 ],
 "metadata": {
  "kernelspec": {
   "display_name": "Python 3 (ipykernel)",
   "language": "python",
   "name": "python3"
  },
  "language_info": {
   "codemirror_mode": {
    "name": "ipython",
    "version": 3
   },
   "file_extension": ".py",
   "mimetype": "text/x-python",
   "name": "python",
   "nbconvert_exporter": "python",
   "pygments_lexer": "ipython3",
   "version": "3.12.4"
  }
 },
 "nbformat": 4,
 "nbformat_minor": 5
}
