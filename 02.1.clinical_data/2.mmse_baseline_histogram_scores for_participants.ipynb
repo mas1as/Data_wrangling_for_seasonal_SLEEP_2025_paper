{
 "cells": [
  {
   "cell_type": "code",
   "execution_count": null,
   "id": "1a4ac2cc",
   "metadata": {},
   "outputs": [],
   "source": [
    "import dcarte\n",
    "import pandas as pd\n",
    "import numpy as np\n",
    "import matplotlib.pyplot as plt\n",
    "import matplotlib.cm as cm\n",
    "from matplotlib.gridspec import GridSpec\n",
    "\n",
    "import pyarrow as pa\n",
    "import pyarrow.parquet as pq\n",
    "\n",
    "import seaborn as sns\n",
    "pd.set_option('display.max_columns', None)\n",
    "pd.set_option('display.max_rows', None)"
   ]
  },
  {
   "cell_type": "code",
   "execution_count": null,
   "id": "749b6ebf",
   "metadata": {},
   "outputs": [],
   "source": [
    "## read mmse\n",
    "mmse = pd.read_csv('redcap_16_nov_2023/mmse_MinderHealthManageme_DATA_LABELS_2023-11-16_1135.csv')\n",
    "\n",
    "mmse = mmse.rename(columns={'Participants ID':'DYAD','Date of testing':'date_test_mmse','Total Score':'tot_score_mmse'})\n",
    "mmse = mmse[['DYAD','date_test_mmse','tot_score_mmse']]\n",
    "mmse['DYAD'] = mmse['DYAD'].ffill()\n",
    "mmse = mmse[['DYAD','date_test_mmse','tot_score_mmse']]\n",
    "mmse = mmse.dropna().reset_index(drop=True)\n",
    "mmse \n",
    "\n",
    "## read dyad\n",
    "maps= pd.read_excel('dyads_unprotected.xlsx')\n",
    "maps['id'] = maps['Research ID'].apply(lambda x:x[:5])\n",
    "maps['DYAD'] = maps['DYAD'].apply(lambda x:str(x))\n",
    "\n",
    "## merge\n",
    "merge1 = mmse.merge(maps, on='DYAD',how='left').dropna()\n",
    "merge1"
   ]
  },
  {
   "cell_type": "code",
   "execution_count": null,
   "id": "ad1125e7",
   "metadata": {},
   "outputs": [],
   "source": [
    "sorted_ids = pd.read_csv('sorted_ids_14_11_2023.csv')\n",
    "\n",
    "## here by dropping nulls I limit to the participants in my data\n",
    "merge1 = merge1[['id','date_test_mmse','tot_score_mmse']].merge(sorted_ids[['participant_id','min_date', 'max_date']], \n",
    "                                                                 left_on='id', right_on='participant_id', how='left').dropna()\n",
    "merge1.head(3)"
   ]
  },
  {
   "cell_type": "code",
   "execution_count": null,
   "id": "8171279e",
   "metadata": {},
   "outputs": [],
   "source": [
    "#number of participants\n",
    "len(merge1['id'].unique()) #67"
   ]
  },
  {
   "cell_type": "code",
   "execution_count": null,
   "id": "42c84175",
   "metadata": {},
   "outputs": [],
   "source": [
    "# days of data\n",
    "len(merge1) #127"
   ]
  },
  {
   "cell_type": "code",
   "execution_count": null,
   "id": "99422e55",
   "metadata": {},
   "outputs": [],
   "source": [
    "merge1['days_after_min_date'] = (pd.to_datetime(merge1['date_test_mmse'],dayfirst=True)-pd.to_datetime(merge1['min_date'],dayfirst=True)).dt.days\n",
    "merge1['days_after_max_date'] = (pd.to_datetime(merge1['date_test_mmse'],dayfirst=True)-pd.to_datetime(merge1['max_date'],dayfirst=True)).dt.days\n",
    "merge1.head(7)"
   ]
  },
  {
   "cell_type": "code",
   "execution_count": null,
   "id": "9f6c8087",
   "metadata": {},
   "outputs": [],
   "source": [
    "# days before min date\n",
    "\n",
    "print(len(merge1[merge1['days_after_min_date']<0]), len(merge1[merge1['days_after_min_date']<0]['id'].unique()),\n",
    "      merge1[merge1['days_after_min_date']<0]['days_after_min_date'].mean())\n",
    "\n",
    "# days after max date\n",
    "print(len(merge1[merge1['days_after_max_date']>0]), len(merge1[merge1['days_after_max_date']>0]['id'].unique()),\n",
    "      merge1[merge1['days_after_max_date']>0]['days_after_max_date'].mean())\n",
    "\n",
    "# # drop scores after max date\n",
    "# merge1 = merge1[merge1['days_after_max_date']<=0].reset_index(drop=True)  #is positive after max date\n",
    "# #drop scores before min date\n",
    "# merge1 = merge1[merge1['days_after_min_date']>=0].reset_index(drop=True)  #is negative before min date\n",
    "# # days of data\n",
    "# print(len(merge1))\n",
    "# #number of participants\n",
    "# print(len(merge1['id'].unique()))"
   ]
  },
  {
   "cell_type": "code",
   "execution_count": null,
   "id": "a2236bfb",
   "metadata": {},
   "outputs": [],
   "source": [
    "merge1[['id','max_date']].groupby(by=['id']).count().reset_index().groupby(by=['max_date']).count()"
   ]
  },
  {
   "cell_type": "code",
   "execution_count": null,
   "id": "63859af3",
   "metadata": {},
   "outputs": [],
   "source": [
    "merge1['closest_to_initial_day']=False\n",
    "merge1['absolute_days_after_min_date'] = abs(merge1['days_after_min_date'])\n",
    "merge1.loc[merge1.groupby('id', sort=False)['absolute_days_after_min_date'].idxmin(),'closest_to_initial_day']=True\n",
    "merge1 = merge1[['id', 'date_test_mmse', 'tot_score_mmse', 'participant_id', 'min_date',\n",
    "       'max_date', 'days_after_min_date', 'days_after_max_date',\n",
    "       'closest_to_initial_day']]\n",
    "merge1 "
   ]
  },
  {
   "cell_type": "code",
   "execution_count": null,
   "id": "05fb9a8a",
   "metadata": {},
   "outputs": [],
   "source": [
    "ids = np.load('ids_seven_days_each_five_bimonth.npy',allow_pickle=True)\n",
    "len(ids)\n",
    "\n",
    "# participant without mmse\n",
    "list(set(ids) - set(merge1['id'].unique()))"
   ]
  },
  {
   "cell_type": "code",
   "execution_count": null,
   "id": "59a8bdb5",
   "metadata": {},
   "outputs": [],
   "source": [
    "len(merge1[merge1['closest_to_initial_day']==True]['id'].unique())"
   ]
  },
  {
   "cell_type": "code",
   "execution_count": null,
   "id": "8a87bb2d",
   "metadata": {},
   "outputs": [],
   "source": [
    "plt.figure(figsize=(6,4))\n",
    "plt.hist(merge1[merge1['closest_to_initial_day']==True]['tot_score_mmse'], bins=range(0,32,1),rwidth=0.9, color='tomato')\n",
    "\n",
    "\n",
    "plt.yticks([1,3,5,7,9], rotation=0)\n",
    "plt.xticks([0.5,5.5,10.5,15.5,20.5,25.5,30.5],[0,5,10,15,20,25,30], rotation=0)\n",
    "plt.xlabel('MMSE Score Per Participant')\n",
    "plt.show()"
   ]
  },
  {
   "cell_type": "code",
   "execution_count": null,
   "id": "35b39b86",
   "metadata": {},
   "outputs": [],
   "source": [
    "merge1.columns"
   ]
  },
  {
   "cell_type": "code",
   "execution_count": null,
   "id": "db55f708",
   "metadata": {},
   "outputs": [],
   "source": [
    "merge1[['participant_id','closest_to_initial_day', 'date_test_mmse', 'tot_score_mmse','min_date',\n",
    "      'max_date', 'days_after_min_date', 'days_after_max_date']].to_excel(\"redcap_mmse_baseline_values_nov30.xlsx\")"
   ]
  },
  {
   "cell_type": "code",
   "execution_count": null,
   "id": "5fbf01ea",
   "metadata": {},
   "outputs": [],
   "source": []
  }
 ],
 "metadata": {
  "kernelspec": {
   "display_name": "Python 3 (ipykernel)",
   "language": "python",
   "name": "python3"
  },
  "language_info": {
   "codemirror_mode": {
    "name": "ipython",
    "version": 3
   },
   "file_extension": ".py",
   "mimetype": "text/x-python",
   "name": "python",
   "nbconvert_exporter": "python",
   "pygments_lexer": "ipython3",
   "version": "3.12.4"
  }
 },
 "nbformat": 4,
 "nbformat_minor": 5
}
