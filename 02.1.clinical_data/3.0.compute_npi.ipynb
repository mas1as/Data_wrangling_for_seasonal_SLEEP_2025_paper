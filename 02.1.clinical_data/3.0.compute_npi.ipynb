{
 "cells": [
  {
   "cell_type": "code",
   "execution_count": null,
   "id": "17d6c5a6",
   "metadata": {},
   "outputs": [],
   "source": [
    "import dcarte\n",
    "import pandas as pd\n",
    "import numpy as np\n",
    "import matplotlib.pyplot as plt\n",
    "import matplotlib.cm as cm\n",
    "from matplotlib.gridspec import GridSpec\n",
    "\n",
    "import pyarrow as pa\n",
    "import pyarrow.parquet as pq\n",
    "\n",
    "import seaborn as sns\n",
    "pd.set_option('display.max_columns', None)\n",
    "pd.set_option('display.max_rows', None)"
   ]
  },
  {
   "cell_type": "code",
   "execution_count": null,
   "id": "f31f69ab",
   "metadata": {},
   "outputs": [],
   "source": [
    "maps= pd.read_excel('dyads_unprotected.xlsx')\n",
    "maps['id'] = maps['Research ID'].apply(lambda x:x[:5])\n",
    "\n",
    "sorted_ids = pd.read_csv('sorted_ids_14_11_2023.csv')\n",
    "ids = sorted_ids['participant_id'].unique()\n",
    "maps = maps[maps['id'].isin(ids)][['id','DYAD']]\n",
    "len(maps)"
   ]
  },
  {
   "cell_type": "code",
   "execution_count": null,
   "id": "0b425320",
   "metadata": {},
   "outputs": [],
   "source": [
    "npi = pd.read_csv('redcap_16_nov_2023/NPI_MinderHealthManageme_DATA_LABELS_2023-11-16_1120.csv')\n",
    "#npi.columns.to_list()\n"
   ]
  },
  {
   "cell_type": "code",
   "execution_count": null,
   "id": "28b5cef2",
   "metadata": {},
   "outputs": [],
   "source": [
    "npi = npi.rename(columns={'Participants ID':'DYAD'})\n",
    "print(len(npi))\n",
    "npi = npi.merge(maps[['id','DYAD']], on='DYAD',how='inner')\n",
    "print(len(npi))\n",
    "print(len(npi['id'].unique()))\n",
    "#1294,455,67"
   ]
  },
  {
   "cell_type": "code",
   "execution_count": null,
   "id": "fdbf68b7",
   "metadata": {},
   "outputs": [],
   "source": [
    "for i in ['','.1','.2','.3','.4','.5','.6','.7','.8','.9','.10','.11']:\n",
    "    list1, list2 = npi['Severity'+i].unique(),npi['Frequency'+i].unique()\n",
    "    a = [x.split(' - ')[0] if type(x)==str else 0 for x in list1]\n",
    "    b =[x.split(' - ')[0] if type(x)==str else 0 for x in list2]\n",
    "    print(a, b)"
   ]
  },
  {
   "cell_type": "code",
   "execution_count": null,
   "id": "c7738d3b",
   "metadata": {},
   "outputs": [],
   "source": [
    "npi = npi[['id','Event Name','Assessment date and time', 'Data source',\n",
    "           'Frequency','Severity','Frequency.1','Severity.1','Frequency.2','Severity.2','Frequency.3','Severity.3',\n",
    "           'Frequency.4','Severity.4','Frequency.5','Severity.5','Frequency.6','Severity.6','Frequency.7','Severity.7',\n",
    "           'Frequency.8','Severity.8','Frequency.9','Severity.9','Frequency.10','Severity.10','Frequency.11','Severity.11',\n",
    "           'Total Frequency', 'Total Severity','FrequencyXSeverity', 'Complete?','Total Distress Score','SLEEP:  Does the patient have difficulty sleeping (do not count as present if the patient simply gets up once or twice per night only to go to the bathroom and falls back asleep immediately)? Is he/she up at night? Does he/she wander at night, get dressed, or disturb your sleep? ',\n",
    "         'Tick all that apply (choice=Does the patient have difficulty falling asleep?)',\n",
    "         'Tick all that apply (choice=Does the patient get up during the night (do not count if the patient gets up once or twice per night only to go to the bathroom and falls back asleep immediately)?)',\n",
    "         'Tick all that apply (choice=Does the patient wander, pace, or get involved in inappropriate activities at night?)',\n",
    "         'Tick all that apply (choice=Does the patient awaken you during the night?)',\n",
    "         'Tick all that apply (choice=Does the patient awaken at night, dress, and plan to go out thinking that it is morning and time to start the day?)',\n",
    "         'Tick all that apply (choice=Does the patient awaken too early in the morning (earlier that was his/her habit)?)',\n",
    "         'Tick all that apply (choice=Does the patient sleep excessively during the day?)',\n",
    "         'Tick all that apply (choice=Does the patient have any other nighttime behaviours that bother you that we havent talked about?)']]\n",
    "npi = npi[npi['Complete?']=='Complete'].reset_index(drop=True)\n",
    "\n",
    "categories = ['delusions','hallucinations','agitation_aggression','depression_dysphoria',\n",
    "             'anxiety','elation_euphoria','apathy','disinhibition',\n",
    "             'irritability','aberrant_motor_beh','sleep','appetite']\n",
    "\n",
    "new_names = {'Frequency':'freq_delusions','Severity':'sev_delusions',\n",
    "             'Frequency.1':'freq_hallucinations','Severity.1':'sev_hallucinations',\n",
    "             'Frequency.2':'freq_agitation_aggression','Severity.2':'sev_agitation_aggression',\n",
    "             'Frequency.3':'freq_depression_dysphoria','Severity.3':'sev_depression_dysphoria',\n",
    "             'Frequency.4':'freq_anxiety','Severity.4':'sev_anxiety',\n",
    "             'Frequency.5':'freq_elation_euphoria','Severity.5':'sev_elation_euphoria',\n",
    "             'Frequency.6':'freq_apathy','Severity.6':'sev_apathy',\n",
    "             'Frequency.7':'freq_disinhibition','Severity.7':'sev_disinhibition',\n",
    "             'Frequency.8':'freq_irritability','Severity.8':'sev_irritability',\n",
    "             'Frequency.9':'freq_aberrant_motor_beh','Severity.9':'sev_aberrant_motor_beh',\n",
    "             'Frequency.10':'freq_sleep','Severity.10':'sev_sleep',\n",
    "             'Frequency.11':'freq_appetite','Severity.11':'sev_appetite'}\n",
    "\n",
    "freq_dict ={'Very frequently':4, 'Often':2, 'Frequently':3, 'Occasionally':1}\n",
    "sev_dict = {'Mild':1, 'Marked':3, 'Moderate':2}\n",
    "\n",
    "for idx,i in enumerate(npi.columns[4:28]):    \n",
    "    npi[i]=npi[i].apply(lambda x: x.split(' - ')[0] if type(x)==str else x)\n",
    "    npi = npi.rename(columns={i:new_names[i]})\n",
    "\n",
    "for i in categories:\n",
    "    npi['freq_'+i] = npi['freq_'+i].apply(lambda x:freq_dict[x] if type(x)==str else 0)\n",
    "    npi['sev_'+i] = npi['sev_'+i].apply(lambda x:sev_dict[x] if type(x)==str else 0)\n",
    "    npi[i] = npi['freq_'+i]*npi['sev_'+i]\n",
    "\n",
    "for idx,i in enumerate(npi.columns[34:42]):\n",
    "    new_label = i.split('=')\n",
    "    npi[i]=npi[i].apply(lambda x: 'Yes' if x=='Checked' else 'No')\n",
    "    npi = npi.rename(columns={i:new_label[1]})\n",
    "    \n",
    "npi.head(3)"
   ]
  },
  {
   "cell_type": "code",
   "execution_count": null,
   "id": "0d060d8e",
   "metadata": {},
   "outputs": [],
   "source": [
    "npi['thalias_total_frequency']= npi[['freq_delusions', 'freq_hallucinations','freq_agitation_aggression',\n",
    "        'freq_depression_dysphoria','freq_anxiety', 'freq_elation_euphoria', 'freq_apathy',\n",
    "       'freq_disinhibition', 'freq_irritability',  'freq_aberrant_motor_beh','freq_sleep',  'freq_appetite']].sum(axis=1)"
   ]
  },
  {
   "cell_type": "code",
   "execution_count": null,
   "id": "c6faecfe",
   "metadata": {},
   "outputs": [],
   "source": [
    "npi['thalias_total_sev']= npi[['sev_delusions', 'sev_hallucinations','sev_agitation_aggression',\n",
    "        'sev_depression_dysphoria','sev_anxiety', 'sev_elation_euphoria', 'sev_apathy',\n",
    "       'sev_disinhibition', 'sev_irritability',  'sev_aberrant_motor_beh','sev_sleep',  'sev_appetite']].sum(axis=1)"
   ]
  },
  {
   "cell_type": "code",
   "execution_count": null,
   "id": "829928b2",
   "metadata": {},
   "outputs": [],
   "source": [
    "npi['thalias_total'] = npi[categories].sum(axis=1)\n",
    "npi[['thalias_total_frequency','Total Frequency','thalias_total_sev','Total Severity','FrequencyXSeverity','thalias_total']].head(6)    "
   ]
  },
  {
   "cell_type": "code",
   "execution_count": null,
   "id": "8aba8010",
   "metadata": {},
   "outputs": [],
   "source": [
    "len(npi)"
   ]
  },
  {
   "cell_type": "code",
   "execution_count": null,
   "id": "6b36c6f1",
   "metadata": {},
   "outputs": [],
   "source": [
    "len(npi[npi['thalias_total_frequency']==npi['Total Frequency']])"
   ]
  },
  {
   "cell_type": "code",
   "execution_count": null,
   "id": "b0f42c1c",
   "metadata": {},
   "outputs": [],
   "source": [
    "len(npi[npi['thalias_total_sev']==npi['Total Severity']])"
   ]
  },
  {
   "cell_type": "code",
   "execution_count": null,
   "id": "aa95def4",
   "metadata": {},
   "outputs": [],
   "source": [
    "npi['datetime'] = pd.to_datetime(npi['Assessment date and time'], dayfirst=True)\n",
    "\n",
    "initial_dates = npi[['id','datetime']][npi['Event Name']=='Baseline']\n",
    "initial_dates = initial_dates.rename(columns={'datetime':'baseline_date'}).reset_index()\n",
    "npi = npi.merge(initial_dates, on=['id'],how='left')\n",
    "npi['diff_with_baseline'] = (npi['datetime'] - npi['baseline_date']).dt.days\n",
    "npi[['id', 'Event Name', 'Assessment date and time','datetime']]"
   ]
  },
  {
   "cell_type": "code",
   "execution_count": null,
   "id": "76bf1dcc",
   "metadata": {},
   "outputs": [],
   "source": [
    "npi['is']='no exit'\n",
    "npi.loc[(npi['Event Name']=='Exit'), 'is'] = 'exit'\n",
    "npi.loc[(npi['Event Name']=='Unscheduled visit'), 'is'] = 'unschedule'\n",
    "npi.loc[(npi['Event Name']=='Baseline'), 'event_numeric'] = 0\n",
    "npi.loc[(npi['Event Name']=='Month 3'), 'event_numeric'] = 3\n",
    "npi.loc[(npi['Event Name']=='Month 6'), 'event_numeric'] = 6\n",
    "npi.loc[(npi['Event Name']=='Month 9'), 'event_numeric'] = 9\n",
    "npi.loc[(npi['Event Name']=='Month 12'), 'event_numeric'] = 12\n",
    "npi.loc[(npi['Event Name']=='Month 15'), 'event_numeric'] = 15\n",
    "npi.loc[(npi['Event Name']=='Month 18'), 'event_numeric'] = 18\n",
    "npi.loc[(npi['Event Name']=='Month 21'), 'event_numeric'] = 21\n",
    "npi.loc[(npi['Event Name']=='Month 24'), 'event_numeric'] = 24\n",
    "npi.loc[(npi['Event Name']=='Month 27'), 'event_numeric'] = 27\n",
    "npi.loc[(npi['Event Name']=='Month 30'), 'event_numeric'] = 30\n",
    "npi.loc[(npi['Event Name']=='Month 33'), 'event_numeric'] = 33\n",
    "npi.loc[(npi['Event Name']=='Month 36'), 'event_numeric'] = 36\n",
    "npi['event_numeric'] = npi.apply(lambda x: (x['diff_with_baseline']/30 if x['is']=='exit' else x['event_numeric']), axis=1)\n",
    "npi['event_numeric'] = npi.apply(lambda x: (x['diff_with_baseline']/30 if x['is']=='unschedule' else x['event_numeric']), axis=1)\n",
    "\n",
    "npi = npi[['id', 'Event Name','event_numeric', 'datetime','baseline_date','diff_with_baseline',\n",
    "        'FrequencyXSeverity','thalias_total','thalias_total_frequency','Total Frequency','thalias_total_sev','Total Severity','Total Distress Score',\n",
    "        'freq_sleep', 'sev_sleep', 'sleep', 'freq_delusions', 'sev_delusions', 'delusions','freq_hallucinations',\n",
    "       'sev_hallucinations',  'hallucinations',  'freq_agitation_aggression',\n",
    "       'sev_agitation_aggression','agitation_aggression', 'freq_depression_dysphoria',\n",
    "       'sev_depression_dysphoria', 'depression_dysphoria','freq_anxiety', 'sev_anxiety',  'anxiety',\n",
    "       'freq_elation_euphoria', 'sev_elation_euphoria','elation_euphoria', 'freq_apathy',\n",
    "       'sev_apathy', 'apathy','freq_disinhibition', 'sev_disinhibition', 'disinhibition', \n",
    "       'freq_irritability', 'sev_irritability','irritability',  'freq_aberrant_motor_beh',\n",
    "       'sev_aberrant_motor_beh','aberrant_motor_beh','freq_appetite',\n",
    "       'sev_appetite', 'appetite','is','Data source','Complete?','SLEEP:  Does the patient have difficulty sleeping (do not count as present if the patient simply gets up once or twice per night only to go to the bathroom and falls back asleep immediately)? Is he/she up at night? Does he/she wander at night, get dressed, or disturb your sleep? ',\n",
    "       'Does the patient have difficulty falling asleep?)',\n",
    "       'Does the patient get up during the night (do not count if the patient gets up once or twice per night only to go to the bathroom and falls back asleep immediately)?)',\n",
    "       'Does the patient wander, pace, or get involved in inappropriate activities at night?)',\n",
    "       'Does the patient awaken you during the night?)',\n",
    "       'Does the patient awaken at night, dress, and plan to go out thinking that it is morning and time to start the day?)',\n",
    "       'Does the patient awaken too early in the morning (earlier that was his/her habit)?)',\n",
    "       'Does the patient sleep excessively during the day?)',\n",
    "       'Does the patient have any other nighttime behaviours that bother you that we havent talked about?)']]"
   ]
  },
  {
   "cell_type": "code",
   "execution_count": null,
   "id": "00af2a41",
   "metadata": {},
   "outputs": [],
   "source": [
    "npi.to_excel('npi_values_30_NOV_23.xlsx')"
   ]
  },
  {
   "cell_type": "code",
   "execution_count": null,
   "id": "d13cda69",
   "metadata": {},
   "outputs": [],
   "source": [
    "my_ids = npi.sort_values(by=['id'])['id'].unique()\n",
    "my_ids\n",
    "\n",
    "g = sns.FacetGrid(npi, col='id', col_order=my_ids, col_wrap=10, height=2)#, ylim=(0, 10))\n",
    "g.map(sns.scatterplot, 'event_numeric', 'diff_with_baseline','is')\n",
    "g.add_legend()"
   ]
  },
  {
   "cell_type": "code",
   "execution_count": null,
   "id": "8efd82ff",
   "metadata": {},
   "outputs": [],
   "source": [
    "br"
   ]
  },
  {
   "cell_type": "code",
   "execution_count": null,
   "id": "9c50957c",
   "metadata": {},
   "outputs": [],
   "source": [
    "sns.scatterplot(data=npi,x='thalias_total_sev',y='Total Severity')"
   ]
  },
  {
   "cell_type": "code",
   "execution_count": null,
   "id": "d71e4a7b",
   "metadata": {},
   "outputs": [],
   "source": [
    "sns.scatterplot(data=npi,x='thalias_total_frequency',y='Total Frequency')"
   ]
  },
  {
   "cell_type": "code",
   "execution_count": null,
   "id": "0d1131a1",
   "metadata": {},
   "outputs": [],
   "source": [
    "sns.scatterplot(data=npi,x='Total Distress Score',y='thalias_total')\n",
    "br"
   ]
  },
  {
   "cell_type": "code",
   "execution_count": null,
   "id": "8d11528f",
   "metadata": {},
   "outputs": [],
   "source": []
  }
 ],
 "metadata": {
  "kernelspec": {
   "display_name": "Python 3 (ipykernel)",
   "language": "python",
   "name": "python3"
  },
  "language_info": {
   "codemirror_mode": {
    "name": "ipython",
    "version": 3
   },
   "file_extension": ".py",
   "mimetype": "text/x-python",
   "name": "python",
   "nbconvert_exporter": "python",
   "pygments_lexer": "ipython3",
   "version": "3.12.4"
  }
 },
 "nbformat": 4,
 "nbformat_minor": 5
}
