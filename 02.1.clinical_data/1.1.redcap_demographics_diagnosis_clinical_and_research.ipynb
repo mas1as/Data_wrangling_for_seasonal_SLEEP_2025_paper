{
 "cells": [
  {
   "cell_type": "code",
   "execution_count": null,
   "id": "aaf64d18",
   "metadata": {},
   "outputs": [],
   "source": [
    "import pandas as pd\n",
    "import numpy as np\n",
    "import matplotlib.pyplot as plt\n",
    "import matplotlib.cm as cm\n",
    "from matplotlib.gridspec import GridSpec\n",
    "\n",
    "import pyarrow as pa\n",
    "import pyarrow.parquet as pq\n",
    "\n",
    "import seaborn as sns\n",
    "pd.set_option('display.max_columns', None)"
   ]
  },
  {
   "cell_type": "code",
   "execution_count": null,
   "id": "d9213261",
   "metadata": {},
   "outputs": [],
   "source": [
    "ids = np.load('ids_seven_days_each_five_bimonth.npy')\n",
    "\n",
    "\n",
    "patient = pd.read_parquet('Patients_lookup.parquet', engine='pyarrow')#dcarte.load('Patients','lookup',reload=False)\n",
    "patient['participant_id'] = patient['id'].apply(lambda x:x[:5])\n",
    "patient = patient[patient['participant_id'].isin(ids)]\n",
    "\n",
    "dyads = pd.read_excel('dyads_unprotected.xlsx')\n",
    "\n",
    "dyads['participant_id'] = dyads['Research ID'].apply(lambda x:x[:5])\n",
    "dyads = dyads[dyads['participant_id'].isin(ids)]\n",
    "\n",
    "demographics = pd.read_csv('redcap_16_nov_2023/Demographics_MinderHealthManageme_DATA_LABELS_2023-11-16_1127.csv')\n",
    "demographics.columns.to_list()"
   ]
  },
  {
   "cell_type": "code",
   "execution_count": null,
   "id": "d57c564b",
   "metadata": {},
   "outputs": [],
   "source": [
    "research = demographics[['Dyad number',\n",
    "                         'Primary dementia diagnosis (research) (choice=Alzheimers Disease (typical - late onset))',\n",
    "                         'Primary dementia diagnosis (research) (choice=Alzheimers Disease (atypical - early onset))',\n",
    "                         'Primary dementia diagnosis (research) (choice=Alzheimers Disease (atypical - posterior cortical atrophy variant))',\n",
    "                         'Primary dementia diagnosis (research) (choice=Alzheimers Disease (atypical - cortico-basal syndrome))',\n",
    "                         'Primary dementia diagnosis (research) (choice=Alzheimers Disease (atypical - progressive aphasia variant))',\n",
    "                         'Primary dementia diagnosis (research) (choice=Lewy Body Dementia)',\n",
    "                         'Primary dementia diagnosis (research) (choice=Dementia in Parkinsons Disease)',\n",
    "                         'Primary dementia diagnosis (research) (choice=Frontotemporal dementia (unspecified))',\n",
    "                         'Primary dementia diagnosis (research) (choice=Frontotemporal dementia (behavioural variant/Picks disease))',\n",
    "                         'Primary dementia diagnosis (research) (choice=Frontotemporal dementia (language variant/Primary Progressive Aphasia))',\n",
    "                         'Primary dementia diagnosis (research) (choice=Vascular dementia)',\n",
    "                         'Primary dementia diagnosis (research) (choice=Mild cognitive impairment (MCI))',\n",
    "                         'Primary dementia diagnosis (research) (choice=Early-onset dementia)',\n",
    "                         'Primary dementia diagnosis (research) (choice=Alcohol-related brain damage)',\n",
    "                         'Primary dementia diagnosis (research) (choice=Normal Pressure Hydrocephalus)',\n",
    "                         'Primary dementia diagnosis (research) (choice=Traumatic Brain Injury)',\n",
    "                         'Primary dementia diagnosis (research) (choice=No dementia)',\n",
    "                         'Primary dementia diagnosis (research) (choice=Stroke)',\n",
    "                         'Primary dementia diagnosis (research) (choice=Subjective Cognitive Impairment)']]\n",
    "\n",
    "research  = research.rename(columns={\"Dyad number\": \"DYAD\"})\n",
    "research.head(3)"
   ]
  },
  {
   "cell_type": "code",
   "execution_count": null,
   "id": "3439a82e",
   "metadata": {},
   "outputs": [],
   "source": [
    "alzheimers = ['Primary dementia diagnosis (research) (choice=Alzheimers Disease (typical - late onset))',\n",
    "         'Primary dementia diagnosis (research) (choice=Alzheimers Disease (atypical - early onset))',\n",
    "         'Primary dementia diagnosis (research) (choice=Alzheimers Disease (atypical - posterior cortical atrophy variant))',\n",
    "         'Primary dementia diagnosis (research) (choice=Alzheimers Disease (atypical - cortico-basal syndrome))',\n",
    "         'Primary dementia diagnosis (research) (choice=Alzheimers Disease (atypical - progressive aphasia variant))']\n",
    "research['research alzheimers'] = research[alzheimers].ne('Unchecked').any(axis=1)\n",
    "dementias =[ 'Primary dementia diagnosis (research) (choice=Lewy Body Dementia)',\n",
    "             'Primary dementia diagnosis (research) (choice=Dementia in Parkinsons Disease)',\n",
    "             'Primary dementia diagnosis (research) (choice=Frontotemporal dementia (unspecified))',\n",
    "             'Primary dementia diagnosis (research) (choice=Frontotemporal dementia (behavioural variant/Picks disease))',\n",
    "             'Primary dementia diagnosis (research) (choice=Frontotemporal dementia (language variant/Primary Progressive Aphasia))',\n",
    "             'Primary dementia diagnosis (research) (choice=Vascular dementia)',\n",
    "             'Primary dementia diagnosis (research) (choice=Early-onset dementia)']\n",
    "research['research dementias'] = research[dementias].ne('Unchecked').any(axis=1)\n",
    "research['research other'] = research[['Primary dementia diagnosis (research) (choice=Alcohol-related brain damage)',\n",
    "                         'Primary dementia diagnosis (research) (choice=Normal Pressure Hydrocephalus)',\n",
    "                         'Primary dementia diagnosis (research) (choice=Traumatic Brain Injury)',\n",
    "                         'Primary dementia diagnosis (research) (choice=No dementia)',\n",
    "                         'Primary dementia diagnosis (research) (choice=Stroke)']].ne('Unchecked').any(axis=1)\n",
    "research['research mci'] = research[['Primary dementia diagnosis (research) (choice=Mild cognitive impairment (MCI))',\n",
    "                                    'Primary dementia diagnosis (research) (choice=Subjective Cognitive Impairment)']].ne('Unchecked').any(axis=1)\n",
    "\n",
    "merge_research = dyads.merge(research, on='DYAD')\n",
    "merge_research['Research Diagnosis'] ='Unknown'\n",
    "merge_research.loc[merge_research['research other'] ==True, 'Research Diagnosis'] = 'other'\n",
    "merge_research.loc[merge_research['research alzheimers'] ==True, 'Research Diagnosis'] = 'Alzheimers'\n",
    "merge_research.loc[merge_research['research dementias'] ==True, 'Research Diagnosis'] = 'Dementias'\n",
    "merge_research.loc[merge_research['research mci'] ==True, 'Research Diagnosis'] = 'MCI'\n",
    "merge_research.loc[(merge_research['research alzheimers'] ==True)&(merge_research['research dementias'] ==True), 'Research Diagnosis'] = 'Alzheimers and Dementias'\n",
    "\n",
    "merge_research['research_alzheimer_diagnosis'] ='no'\n",
    "merge_research.loc[(merge_research['Research Diagnosis'] =='Alzheimers and Dementias')|(merge_research['Research Diagnosis']=='Alzheimers'),'research_alzheimer_diagnosis'] = 'yes'\n",
    "merge_research.loc[(merge_research['Research Diagnosis'] =='Unknown'),'research_alzheimer_diagnosis'] = 'no'\n",
    "\n",
    "merge_research=merge_research[[ 'participant_id','research alzheimers','research dementias','research other','research mci','Research Diagnosis','research_alzheimer_diagnosis']]\n",
    "merge_research"
   ]
  },
  {
   "cell_type": "code",
   "execution_count": null,
   "id": "b40ee1cd",
   "metadata": {},
   "outputs": [],
   "source": [
    "merge_research[merge_research['Research Diagnosis']=='Alzheimers and Dementias']"
   ]
  },
  {
   "cell_type": "code",
   "execution_count": null,
   "id": "1e82744b",
   "metadata": {},
   "outputs": [],
   "source": [
    "merge_research.to_excel(\"redcap_research_diagnosis_08_FEB_2024.xlsx\")"
   ]
  },
  {
   "cell_type": "code",
   "execution_count": null,
   "id": "a6c171cc",
   "metadata": {},
   "outputs": [],
   "source": [
    "demographics = demographics[['Dyad number', 'Year of birth PwD',\n",
    " 'Gender PwD','Clinical Diagnosis (choice=Alzheimers Disease (typical - late onset))',\n",
    " 'Clinical Diagnosis (choice=Alzheimers Disease (atypical - early onset))',\n",
    " 'Clinical Diagnosis (choice=Alzheimers Disease (atypical - posterior cortical atrophy variant))',\n",
    " 'Clinical Diagnosis (choice=Alzheimers Disease (atypical - cortico-basal syndrome))',\n",
    " 'Clinical Diagnosis (choice=Alzheimers Disease (atypical - progressive aphasia variant))',\n",
    " 'Clinical Diagnosis (choice=Lewy Body Dementia)',\n",
    " 'Clinical Diagnosis (choice=Dementia in Parkinsons Disease)',\n",
    " 'Clinical Diagnosis (choice=Frontotemporal dementia (unspecified))',\n",
    " 'Clinical Diagnosis (choice=Frontotemporal dementia (behavioural variant/Picks disease))',\n",
    " 'Clinical Diagnosis (choice=Frontotemporal dementia (language variant/Primary Progressive Aphasia))',\n",
    " 'Clinical Diagnosis (choice=Vascular dementia)',\n",
    " 'Clinical Diagnosis (choice=Mild cognitive impairment (MCI))',\n",
    " 'Clinical Diagnosis (choice=Young-onset dementia)',\n",
    " 'Clinical Diagnosis (choice=Alcohol-related brain damage)',\n",
    " 'Clinical Diagnosis (choice=Mixed Alzheimers and Vascular Dementia)',\n",
    " 'Clinical Diagnosis (choice=Dementia in Alzheimer disease, atypical or mixed type)',\n",
    " 'Clinical Diagnosis (choice=Normal Pressure Hydrocephalus)',\n",
    " 'Clinical Diagnosis (choice=Traumatic Brain Injury)',\n",
    " 'Clinical Diagnosis (choice=No dementia)',\n",
    " 'Clinical Diagnosis (choice=Stroke)',\n",
    " 'Clinical Diagnosis (choice=Frailty)']]\n",
    "#diagnosis, imaging results and regions affected, comorbidities, smoke, drink, house style, mobility, pets\n",
    "demographics  = demographics.rename(columns={\"Dyad number\": \"DYAD\"})\n",
    "demographics.head(3)"
   ]
  },
  {
   "cell_type": "code",
   "execution_count": null,
   "id": "18ba7dbb",
   "metadata": {},
   "outputs": [],
   "source": [
    "alzheimers = ['Clinical Diagnosis (choice=Alzheimers Disease (typical - late onset))',\n",
    "             'Clinical Diagnosis (choice=Alzheimers Disease (atypical - early onset))',\n",
    "            'Clinical Diagnosis (choice=Alzheimers Disease (atypical - posterior cortical atrophy variant))',\n",
    "             'Clinical Diagnosis (choice=Alzheimers Disease (atypical - cortico-basal syndrome))',\n",
    "              'Clinical Diagnosis (choice=Alzheimers Disease (atypical - progressive aphasia variant))']\n",
    "demographics['alzheimers'] = demographics[alzheimers].ne('Unchecked').any(axis=1)\n",
    "\n",
    "dementias =['Clinical Diagnosis (choice=Lewy Body Dementia)',\n",
    "            'Clinical Diagnosis (choice=Dementia in Parkinsons Disease)',\n",
    "            'Clinical Diagnosis (choice=Frontotemporal dementia (unspecified))', \n",
    "            'Clinical Diagnosis (choice=Frontotemporal dementia (behavioural variant/Picks disease))',\n",
    "             'Clinical Diagnosis (choice=Frontotemporal dementia (language variant/Primary Progressive Aphasia))',\n",
    "            'Clinical Diagnosis (choice=Vascular dementia)',\n",
    "            'Clinical Diagnosis (choice=Young-onset dementia)']\n",
    "demographics['dementias'] = demographics[dementias].ne('Unchecked').any(axis=1)\n",
    "\n",
    "other =['Clinical Diagnosis (choice=Alcohol-related brain damage)',\n",
    "         'Clinical Diagnosis (choice=Normal Pressure Hydrocephalus)',\n",
    "         'Clinical Diagnosis (choice=Traumatic Brain Injury)',\n",
    "         'Clinical Diagnosis (choice=No dementia)',\n",
    "         'Clinical Diagnosis (choice=Stroke)',\n",
    "         'Clinical Diagnosis (choice=Frailty)']\n",
    "demographics['other'] = demographics[other].ne('Unchecked').any(axis=1)\n",
    "\n",
    "demographics['alzheimer_and_dementia'] = demographics[['Clinical Diagnosis (choice=Mixed Alzheimers and Vascular Dementia)',\n",
    "                                        'Clinical Diagnosis (choice=Dementia in Alzheimer disease, atypical or mixed type)']].ne('Unchecked').any(axis=1)\n",
    "demographics['mci'] = demographics[['Clinical Diagnosis (choice=Mild cognitive impairment (MCI))']].ne('Unchecked').any(axis=1)\n",
    "\n",
    "merge1 = dyads.merge(demographics, on='DYAD')\n",
    "merge1 = merge1[['participant_id', 'Year of birth PwD',\n",
    "       'Gender PwD',\n",
    "       'Clinical Diagnosis (choice=Alzheimers Disease (typical - late onset))',\n",
    "       'Clinical Diagnosis (choice=Alzheimers Disease (atypical - early onset))',\n",
    "       'Clinical Diagnosis (choice=Alzheimers Disease (atypical - posterior cortical atrophy variant))',\n",
    "       'Clinical Diagnosis (choice=Alzheimers Disease (atypical - cortico-basal syndrome))',\n",
    "       'Clinical Diagnosis (choice=Alzheimers Disease (atypical - progressive aphasia variant))',\n",
    "       'Clinical Diagnosis (choice=Lewy Body Dementia)',\n",
    "       'Clinical Diagnosis (choice=Dementia in Parkinsons Disease)',\n",
    "       'Clinical Diagnosis (choice=Frontotemporal dementia (unspecified))',\n",
    "       'Clinical Diagnosis (choice=Frontotemporal dementia (behavioural variant/Picks disease))',\n",
    "       'Clinical Diagnosis (choice=Frontotemporal dementia (language variant/Primary Progressive Aphasia))',\n",
    "       'Clinical Diagnosis (choice=Vascular dementia)',\n",
    "       'Clinical Diagnosis (choice=Mild cognitive impairment (MCI))',\n",
    "       'Clinical Diagnosis (choice=Young-onset dementia)',\n",
    "       'Clinical Diagnosis (choice=Alcohol-related brain damage)',\n",
    "       'Clinical Diagnosis (choice=Mixed Alzheimers and Vascular Dementia)',\n",
    "       'Clinical Diagnosis (choice=Dementia in Alzheimer disease, atypical or mixed type)',\n",
    "       'Clinical Diagnosis (choice=Normal Pressure Hydrocephalus)',\n",
    "       'Clinical Diagnosis (choice=Traumatic Brain Injury)',\n",
    "       'Clinical Diagnosis (choice=No dementia)',\n",
    "       'Clinical Diagnosis (choice=Stroke)',\n",
    "       'Clinical Diagnosis (choice=Frailty)', 'alzheimers', 'dementias',\n",
    "       'alzheimer_and_dementia', 'mci','other']]\n",
    "\n",
    "merge1['Clinical Diagnosis'] ='Unknown'\n",
    "merge1.loc[merge1['other'] ==True, 'Clinical Diagnosis'] = 'other'\n",
    "merge1.loc[merge1['alzheimers'] ==True, 'Clinical Diagnosis'] = 'Alzheimers'\n",
    "merge1.loc[merge1['dementias'] ==True, 'Clinical Diagnosis'] = 'Dementias'\n",
    "merge1.loc[merge1['mci'] ==True, 'Clinical Diagnosis'] = 'MCI'\n",
    "merge1.loc[(merge1['alzheimer_and_dementia'] ==True), 'Clinical Diagnosis'] = 'Alzheimers and Dementias'\n",
    "merge1.loc[(merge1['alzheimers'] ==True)&(merge1['dementias'] ==True), 'Clinical Diagnosis'] = 'Alzheimers and Dementias'\n",
    "\n",
    "merge1['clinical_alzheimer_diagnosis'] ='no'\n",
    "merge1.loc[(merge1['Clinical Diagnosis'] =='Alzheimers and Dementias')|(merge1['Clinical Diagnosis']=='Alzheimers'),'clinical_alzheimer_diagnosis'] = 'yes'\n",
    "merge1.loc[(merge1['Clinical Diagnosis'] =='Unknown'),'clinical_alzheimer_diagnosis'] = 'no'\n",
    "\n",
    "\n",
    "merge1 = merge1[['participant_id', 'Year of birth PwD', 'Gender PwD','Clinical Diagnosis','clinical_alzheimer_diagnosis','Clinical Diagnosis (choice=Alzheimers Disease (typical - late onset))','Clinical Diagnosis (choice=Alzheimers Disease (atypical - early onset))',\n",
    "       'Clinical Diagnosis (choice=Alzheimers Disease (atypical - posterior cortical atrophy variant))','Clinical Diagnosis (choice=Alzheimers Disease (atypical - cortico-basal syndrome))',\n",
    "       'Clinical Diagnosis (choice=Alzheimers Disease (atypical - progressive aphasia variant))','Clinical Diagnosis (choice=Lewy Body Dementia)','Clinical Diagnosis (choice=Dementia in Parkinsons Disease)',\n",
    "       'Clinical Diagnosis (choice=Frontotemporal dementia (unspecified))','Clinical Diagnosis (choice=Frontotemporal dementia (behavioural variant/Picks disease))',\n",
    "       'Clinical Diagnosis (choice=Frontotemporal dementia (language variant/Primary Progressive Aphasia))', 'Clinical Diagnosis (choice=Vascular dementia)','Clinical Diagnosis (choice=Mild cognitive impairment (MCI))','Clinical Diagnosis (choice=Young-onset dementia)',\n",
    "       'Clinical Diagnosis (choice=Alcohol-related brain damage)','Clinical Diagnosis (choice=Mixed Alzheimers and Vascular Dementia)','Clinical Diagnosis (choice=Dementia in Alzheimer disease, atypical or mixed type)','Clinical Diagnosis (choice=Normal Pressure Hydrocephalus)',\n",
    "       'Clinical Diagnosis (choice=Traumatic Brain Injury)','Clinical Diagnosis (choice=No dementia)','Clinical Diagnosis (choice=Stroke)','Clinical Diagnosis (choice=Frailty)']]\n",
    "\n",
    "#merge1.to_excel(\"redcap_demographics_diagnosis_nov16.xlsx\")\n",
    "\n",
    "merge1.head(5)\n"
   ]
  },
  {
   "cell_type": "code",
   "execution_count": null,
   "id": "0ed43f63",
   "metadata": {},
   "outputs": [],
   "source": [
    "comparison = merge1[['participant_id','Clinical Diagnosis','clinical_alzheimer_diagnosis']].merge(\n",
    "    merge_research[['participant_id','Research Diagnosis','research_alzheimer_diagnosis']], on='participant_id')\n",
    "comparison['its clinical and research alz diag'] = 'yes'\n",
    "comparison.loc[comparison['clinical_alzheimer_diagnosis'] !=comparison['research_alzheimer_diagnosis'], 'its clinical and research alz diag']='no'\n",
    "comparison"
   ]
  },
  {
   "cell_type": "code",
   "execution_count": null,
   "id": "b4bbfaca",
   "metadata": {},
   "outputs": [],
   "source": [
    "comparison['Analysis Diagnosis']=comparison.apply(lambda x: x['Research Diagnosis'] if x['Research Diagnosis']!='Unknown'\n",
    "                                                  else x['Clinical Diagnosis'], axis = 1)\n",
    "comparison['analysis_alzheimer_diagnosis'] ='no'\n",
    "comparison.loc[(comparison['Analysis Diagnosis'] =='Alzheimers and Dementias')|\n",
    "               (comparison['Analysis Diagnosis']=='Alzheimers'),'analysis_alzheimer_diagnosis'] = 'yes'\n",
    "\n",
    "comparison"
   ]
  },
  {
   "cell_type": "code",
   "execution_count": null,
   "id": "18c8bff5",
   "metadata": {},
   "outputs": [],
   "source": [
    "comparison.columns"
   ]
  },
  {
   "cell_type": "code",
   "execution_count": null,
   "id": "5077d8df",
   "metadata": {},
   "outputs": [],
   "source": [
    "comparison[['participant_id', 'Clinical Diagnosis', 'Research Diagnosis','Analysis Diagnosis','clinical_alzheimer_diagnosis',\n",
    "            'research_alzheimer_diagnosis','analysis_alzheimer_diagnosis']].to_excel(\"comparison_between_clinical_research_diagnosis_13_FEB_2024.xlsx\")"
   ]
  },
  {
   "cell_type": "code",
   "execution_count": null,
   "id": "a718a91c",
   "metadata": {},
   "outputs": [],
   "source": [
    "comparison[comparison['analysis_alzheimer_diagnosis']=='yes']"
   ]
  },
  {
   "cell_type": "code",
   "execution_count": null,
   "id": "ca6bdc83",
   "metadata": {},
   "outputs": [],
   "source": [
    "comparison[(comparison['research_alzheimer_diagnosis']!=comparison['analysis_alzheimer_diagnosis'])]"
   ]
  },
  {
   "cell_type": "code",
   "execution_count": null,
   "id": "b6813aaa",
   "metadata": {},
   "outputs": [],
   "source": [
    "br"
   ]
  },
  {
   "cell_type": "code",
   "execution_count": null,
   "id": "6a2eab87",
   "metadata": {},
   "outputs": [],
   "source": [
    "#comparison[(comparison['Research Diagnosis']=='Unknown')|(comparison['Clinical Diagnosis']=='Unknown')]\n",
    "len(comparison[(comparison['Research Diagnosis']=='Unknown')])"
   ]
  },
  {
   "cell_type": "code",
   "execution_count": null,
   "id": "ea8e8a15",
   "metadata": {},
   "outputs": [],
   "source": [
    "len(comparison[(comparison['same_alzheimer_diagnosis']=='no')])"
   ]
  },
  {
   "cell_type": "code",
   "execution_count": null,
   "id": "bdd18698",
   "metadata": {},
   "outputs": [],
   "source": [
    "len(comparison[(comparison['same_alzheimer_diagnosis']=='no')&(comparison['Research Diagnosis']=='Unknown')])"
   ]
  },
  {
   "cell_type": "code",
   "execution_count": null,
   "id": "14e257ea",
   "metadata": {},
   "outputs": [],
   "source": [
    "len(comparison[(comparison['same_alzheimer_diagnosis']=='no')&(comparison['research_alzheimer_diagnosis']=='yes')])\n",
    "comparison[(comparison['same_alzheimer_diagnosis']=='no')&(comparison['research_alzheimer_diagnosis']=='yes')]"
   ]
  },
  {
   "cell_type": "code",
   "execution_count": null,
   "id": "1411d846",
   "metadata": {},
   "outputs": [],
   "source": [
    "len(comparison[(comparison['same_alzheimer_diagnosis']=='no')&(comparison['research_alzheimer_diagnosis']=='no')])\n",
    "comparison[(comparison['same_alzheimer_diagnosis']=='no')&(comparison['research_alzheimer_diagnosis']=='no')]"
   ]
  },
  {
   "cell_type": "code",
   "execution_count": null,
   "id": "e985d0c5",
   "metadata": {},
   "outputs": [],
   "source": [
    "len(comparison[(comparison['research_alzheimer_diagnosis']=='yes')]),len(comparison[(comparison['clinical_alzheimer_diagnosis']=='yes')])"
   ]
  },
  {
   "cell_type": "code",
   "execution_count": null,
   "id": "516a3f39",
   "metadata": {},
   "outputs": [],
   "source": [
    "len(comparison[(comparison['research_alzheimer_diagnosis']=='no')])"
   ]
  },
  {
   "cell_type": "code",
   "execution_count": null,
   "id": "4fbc68e1",
   "metadata": {},
   "outputs": [],
   "source": []
  }
 ],
 "metadata": {
  "kernelspec": {
   "display_name": "Python 3 (ipykernel)",
   "language": "python",
   "name": "python3"
  },
  "language_info": {
   "codemirror_mode": {
    "name": "ipython",
    "version": 3
   },
   "file_extension": ".py",
   "mimetype": "text/x-python",
   "name": "python",
   "nbconvert_exporter": "python",
   "pygments_lexer": "ipython3",
   "version": "3.12.4"
  }
 },
 "nbformat": 4,
 "nbformat_minor": 5
}
