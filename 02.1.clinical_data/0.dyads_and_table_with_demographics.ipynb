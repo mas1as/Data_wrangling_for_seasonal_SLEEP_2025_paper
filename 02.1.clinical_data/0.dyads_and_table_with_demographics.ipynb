{
 "cells": [
  {
   "cell_type": "code",
   "execution_count": null,
   "id": "aaf64d18",
   "metadata": {},
   "outputs": [],
   "source": [
    "import dcarte\n",
    "import pandas as pd\n",
    "import numpy as np\n",
    "import matplotlib.pyplot as plt\n",
    "import matplotlib.cm as cm\n",
    "from matplotlib.gridspec import GridSpec\n",
    "\n",
    "import pyarrow as pa\n",
    "import pyarrow.parquet as pq\n",
    "\n",
    "import seaborn as sns\n",
    "pd.set_option('display.max_columns', None)"
   ]
  },
  {
   "cell_type": "code",
   "execution_count": null,
   "id": "048a94f2",
   "metadata": {},
   "outputs": [],
   "source": [
    "ids = np.load('ids_seven_days_each_five_bimonth.npy')\n",
    "len(ids)"
   ]
  },
  {
   "cell_type": "code",
   "execution_count": null,
   "id": "a5a37786",
   "metadata": {},
   "outputs": [],
   "source": [
    "patient = dcarte.load('Patients','lookup',reload=False)\n",
    "patient['participant_id'] = patient['id'].apply(lambda x:x[:5])\n",
    "patient = patient[patient['participant_id'].isin(ids)]\n",
    "#patient"
   ]
  },
  {
   "cell_type": "markdown",
   "id": "10174118",
   "metadata": {},
   "source": [
    "### I have 8 without birthdats in DCARTE"
   ]
  },
  {
   "cell_type": "code",
   "execution_count": null,
   "id": "a8a424ac",
   "metadata": {},
   "outputs": [],
   "source": [
    "patient[patient.isna().any(axis=1)]"
   ]
  },
  {
   "cell_type": "markdown",
   "id": "96327bfe",
   "metadata": {},
   "source": [
    "## Exploring dyads"
   ]
  },
  {
   "cell_type": "code",
   "execution_count": null,
   "id": "805ec2ec",
   "metadata": {},
   "outputs": [],
   "source": [
    "dyads = pd.read_excel('dyads_unprotected.xlsx')\n",
    "print('In total ',len(dyads))"
   ]
  },
  {
   "cell_type": "code",
   "execution_count": null,
   "id": "082d4544",
   "metadata": {},
   "outputs": [],
   "source": [
    "dyads['participant_id'] = dyads['Research ID'].apply(lambda x:x[:5])\n",
    "dyads = dyads[dyads['participant_id'].isin(ids)]\n",
    "dyads"
   ]
  },
  {
   "cell_type": "markdown",
   "id": "b01a2c07",
   "metadata": {},
   "source": [
    "### I have one without DYAD"
   ]
  },
  {
   "cell_type": "code",
   "execution_count": null,
   "id": "5e67aaf8",
   "metadata": {},
   "outputs": [],
   "source": [
    "missing = list(sorted(set(ids) - set(dyads['participant_id'].unique())))\n",
    "print(missing)"
   ]
  },
  {
   "cell_type": "code",
   "execution_count": null,
   "id": "4a34b55a",
   "metadata": {},
   "outputs": [],
   "source": [
    "patient[patient['participant_id']=='R8amT']"
   ]
  },
  {
   "cell_type": "code",
   "execution_count": null,
   "id": "d9213261",
   "metadata": {},
   "outputs": [],
   "source": [
    "#demographics = pd.read_csv('MinderHealthManageme-Demographics_DATA_LABELS_2023-10-06_1207.csv')306\n",
    "demographics = pd.read_csv('redcap_16_nov_2023/Demographics_MinderHealthManageme_DATA_LABELS_2023-11-16_1127.csv')\n",
    "len(demographics.columns.to_list())"
   ]
  },
  {
   "cell_type": "code",
   "execution_count": null,
   "id": "a6c171cc",
   "metadata": {},
   "outputs": [],
   "source": [
    "demographics = demographics[['Dyad number', 'Year of birth PwD', 'Gender PwD',\n",
    " 'Employment - PwD','Education - PwD','Does PwD smoke?',\n",
    " 'Does PwD drink alcohol?', 'House style', 'Mobility','Symptoms onset year', 'Does PwD live alone?', 'Cohort site']]\n",
    "#diagnosis, imaging results and regions affected, comorbidities, smoke, drink, house style, mobility, pets\n",
    "demographics  = demographics.rename(columns={\"Dyad number\": \"DYAD\"})\n",
    "demographics.head(3)"
   ]
  },
  {
   "cell_type": "code",
   "execution_count": null,
   "id": "efe860a0",
   "metadata": {},
   "outputs": [],
   "source": [
    "merge1 = dyads.merge(demographics, on='DYAD')\n",
    "merge1"
   ]
  },
  {
   "cell_type": "code",
   "execution_count": null,
   "id": "dd2c43a0",
   "metadata": {},
   "outputs": [],
   "source": [
    "merge1['Cohort site'].unique()"
   ]
  },
  {
   "cell_type": "markdown",
   "id": "44a17a31",
   "metadata": {},
   "source": [
    "merge1[merge1['Cohort site'].isna()]"
   ]
  },
  {
   "cell_type": "code",
   "execution_count": null,
   "id": "03f738c8",
   "metadata": {},
   "outputs": [],
   "source": [
    "merge2 = merge1.merge(patient, on='participant_id',how='right')\n",
    "merge2[merge2['Year of birth PwD']!=merge2['birth_date']]"
   ]
  },
  {
   "cell_type": "code",
   "execution_count": null,
   "id": "93ba677a",
   "metadata": {},
   "outputs": [],
   "source": [
    "merge2['birth_date'].fillna(merge2['Year of birth PwD'], inplace=True)"
   ]
  },
  {
   "cell_type": "code",
   "execution_count": null,
   "id": "595c7b46",
   "metadata": {},
   "outputs": [],
   "source": [
    "merge2 = merge2[['participant_id', 'DYAD','birth_date', 'gender', 'Employment - PwD', 'Education - PwD', 'Does PwD smoke?',\n",
    "       'Does PwD drink alcohol?', 'House style', 'Mobility',\n",
    "       'Symptoms onset year', 'Does PwD live alone?', 'Cohort site',\n",
    "       'organization']]"
   ]
  },
  {
   "cell_type": "markdown",
   "id": "93b1254e",
   "metadata": {},
   "source": [
    "merge2[merge2.isna().any(axis=1)]"
   ]
  },
  {
   "cell_type": "code",
   "execution_count": null,
   "id": "0ed43f63",
   "metadata": {},
   "outputs": [],
   "source": [
    "merge2.to_excel(\"redcap_demographics_nov16.xlsx\")"
   ]
  },
  {
   "cell_type": "code",
   "execution_count": null,
   "id": "2847c168",
   "metadata": {},
   "outputs": [],
   "source": []
  }
 ],
 "metadata": {
  "kernelspec": {
   "display_name": "Python 3 (ipykernel)",
   "language": "python",
   "name": "python3"
  },
  "language_info": {
   "codemirror_mode": {
    "name": "ipython",
    "version": 3
   },
   "file_extension": ".py",
   "mimetype": "text/x-python",
   "name": "python",
   "nbconvert_exporter": "python",
   "pygments_lexer": "ipython3",
   "version": "3.12.4"
  }
 },
 "nbformat": 4,
 "nbformat_minor": 5
}
