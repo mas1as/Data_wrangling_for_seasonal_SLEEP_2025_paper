{
 "cells": [
  {
   "cell_type": "code",
   "execution_count": null,
   "id": "b3d3b21c",
   "metadata": {},
   "outputs": [],
   "source": [
    "import numpy as np\n",
    "import pandas as pd\n",
    "import datetime\n",
    "# import dcarte\n",
    "import pytz\n",
    "#%load_ext autoreload\n",
    "import pyarrow as pa\n",
    "import pyarrow.parquet as pq\n",
    "\n",
    "from random import randrange\n",
    "import matplotlib.pyplot as plt\n",
    "import seaborn as sns\n",
    "color = sns.color_palette()\n",
    "pd.options.mode.chained_assignment = None  # default='warn'\n",
    "\n",
    "pd.set_option('display.max_columns', 500)\n",
    "pd.set_option('display.max_rows', 6)"
   ]
  },
  {
   "cell_type": "code",
   "execution_count": null,
   "id": "c00e2490",
   "metadata": {},
   "outputs": [],
   "source": [
    "sleep = pd.read_parquet('clean_sleep_data.parquet', engine='pyarrow')\n",
    "sleep = sleep.drop('duplicates', axis=1)\n",
    "sleep['datetime'] = sleep['start_date_tz']\n",
    "if sleep['datetime'].dt.tz!='Europe/London':\n",
    "    sleep['datetime'] = sleep['datetime'].dt.tz_convert(pytz.timezone('Europe/London'))\n",
    "    \n",
    "def process_sleep_mat(patient_id, df):\n",
    "    df = df[df['ID']==patient_id].reset_index(drop=True)\n",
    "\n",
    "    df.index = pd.DatetimeIndex(df['datetime'])\n",
    "    df = df.drop(columns=['datetime'])\n",
    "    df = df.resample('1T').asfreq()\n",
    "    df = df.rename_axis('datetime').reset_index()\n",
    "    if df['datetime'].dt.tz!='Europe/London':\n",
    "        df['datetime'] = df['datetime'].dt.tz_convert(pytz.timezone('Europe/London'))\n",
    "    df['value'] = np.where(df['state'].isna(), 'bed_out', 'bed_in')\n",
    "    return df[['ID','datetime', 'state','value','snoring','heart_rate','respiratory_rate']]"
   ]
  },
  {
   "cell_type": "code",
   "execution_count": null,
   "id": "5b11a675",
   "metadata": {},
   "outputs": [],
   "source": [
    "sleep.head(3)"
   ]
  },
  {
   "cell_type": "code",
   "execution_count": null,
   "id": "89fd4c4a",
   "metadata": {},
   "outputs": [],
   "source": [
    "br"
   ]
  },
  {
   "cell_type": "code",
   "execution_count": null,
   "id": "6a68ee97",
   "metadata": {},
   "outputs": [],
   "source": [
    "data_1 = pd.read_parquet('clusters_hour_gap.parquet', engine='pyarrow')\n",
    "data_1 = data_1.dropna()\n",
    "data_1['length'] = data_1['length']/60\n",
    "data_1 = data_1.rename(columns={\"Participant ID\": \"participant_id\"})\n",
    "#hourgap = data_1[(data_1['classification']=='nocturnal')].groupby(['date','Participant ID'], group_keys=False).apply(lambda x: x.loc[x.length.idxmax()])\n",
    "#data_1.head(3)\n",
    "print(len(data_1['participant_id'].unique()))"
   ]
  },
  {
   "cell_type": "code",
   "execution_count": null,
   "id": "ee53d9ff",
   "metadata": {},
   "outputs": [],
   "source": [
    "dates = pd.read_parquet('in_bed_metrics_using_cluster.parquet', engine='pyarrow')\n",
    "dates = dates[['participant_id', 'date', 'tib_onset', 'tib_offset']]\n",
    "dates.info()\n",
    "\n",
    "# dates['participant_id'] = dates['participant_id'].astype(str)\n",
    "# dates['date'] = dates['date'].astype(str)\n",
    "# data_1['participant_id'] = data_1['participant_id'].astype(str)\n",
    "# data_1['date'] = data_1['date'].astype(str)\n",
    "dates_used = dates.merge(data_1, on=['participant_id', 'date'], how='left')\n",
    "dates_used['tib_onset'] = pd.to_datetime(dates_used['tib_onset'])\n",
    "dates_used['datetime'] = pd.to_datetime(dates_used['datetime'])\n",
    " \n",
    "dates_used"
   ]
  },
  {
   "cell_type": "code",
   "execution_count": null,
   "id": "de58a621",
   "metadata": {},
   "outputs": [],
   "source": [
    "dates_used['its_a']='in_bed_nap'\n",
    "dates_used.loc[dates_used['tib_onset']==dates_used['datetime'], 'its_a'] ='NTIB'\n",
    "dates_used.loc[(dates_used['its_a']=='in_bed_nap')&(dates_used['classification']=='nocturnal'), 'its_a'] ='short_NTIB'\n",
    "#dates_used\n",
    "\n",
    "len(dates_used[dates_used['its_a']=='NTIB']),len(dates_used[dates_used['its_a']=='short_NTIB']),len(dates_used[dates_used['its_a']=='in_bed_nap'])"
   ]
  },
  {
   "cell_type": "code",
   "execution_count": null,
   "id": "18bdd00e",
   "metadata": {},
   "outputs": [],
   "source": [
    "ntib_and_naps_count = dates_used[['participant_id','date','cluster','its_a']].groupby(by=['participant_id','date',\n",
    "                                        'its_a']).count().unstack(fill_value=0).T.T.reset_index(level=[0,1])\n",
    "ntib_and_naps_count.columns = ntib_and_naps_count.columns.to_flat_index()\n",
    "\n",
    "ntib_and_naps_count = ntib_and_naps_count.rename(columns={('participant_id',''):'participant_id',\n",
    "                                                    ('date',''):'date',\n",
    "                                                    ('cluster','in_bed_nap'):'in_bed_nap',\n",
    "                                                    ('cluster','short_NTIB'):'short_NTIB',\n",
    "                                                    ('cluster', 'NTIB'):'NTIB'})\n",
    "ntib_and_naps_count"
   ]
  },
  {
   "cell_type": "code",
   "execution_count": null,
   "id": "235f33e1",
   "metadata": {},
   "outputs": [],
   "source": [
    "def start_naps_table():\n",
    "    return pd.DataFrame(columns=['participant_id', 'date','cluster_number','nap_classification',\n",
    "                     'time_in_bed_duration','tib_onset', 'tib_offset','in_bed_bouts',\n",
    "                    'sleep_duration','sleep_onset', 'sleep_offset', 'sleep_bouts'])\n",
    "\n",
    "def append_row(df, row):\n",
    "    return pd.concat([ df, pd.DataFrame([row], columns=row.index)]).reset_index(drop=True)\n",
    "\n",
    "def find_bows(df, col_to_find_mismatch, desired_value):\n",
    "    df['mismatch'] = df[col_to_find_mismatch] != df[col_to_find_mismatch].shift(1)\n",
    "    transitions = df[df['mismatch']==True].reset_index(drop=True)\n",
    "    transitions['duration'] = (transitions['datetime'].shift(-1) - transitions['datetime']).dt.total_seconds()/3600\n",
    "    bows = transitions[(transitions[col_to_find_mismatch]==desired_value)]['duration'].to_list()\n",
    "    return bows\n",
    "\n",
    "def prepare_for_bows(df, start, end, col_to_find_mismatch, undesired_value):\n",
    "    for_transitions = df[df['datetime'].between(start, end)].reset_index(drop=True)                \n",
    "    empty_df = pd.DataFrame({start-pd.Timedelta(minutes=1):undesired_value, \n",
    "                             end+pd.Timedelta(minutes=1):undesired_value}.items(), columns=['datetime', col_to_find_mismatch])\n",
    "    for_transitions = pd.concat([for_transitions,empty_df])\n",
    "    return for_transitions.sort_values(by='datetime')\n",
    "\n",
    "def update_naps_table(old_df, i_df, patient, cluster_df):\n",
    "\n",
    "    for index, row in cluster_df.iterrows():\n",
    "\n",
    "        start_dt = row['datetime']\n",
    "        end_dt = row['end_datetime']  #participant goes out of bed in this minute, and start the outbed cluster\n",
    "\n",
    "        time_in_bed = i_df.loc[(i_df['datetime']>=start_dt) & \n",
    "                                    (i_df['datetime']<=(end_dt-pd.Timedelta(minutes=1)))].reset_index(drop=True)### this needs a minute correction to select only time in bed\n",
    "        time_in_bed['in_sleep'] = np.where(time_in_bed['state'].isin(['DEEP', 'LIGHT', 'REM']), 'yes', 'no')\n",
    "        \n",
    "#         print(time_in_bed[['datetime','state','value']])\n",
    "        if len(time_in_bed[time_in_bed['in_sleep']=='yes'])<2:\n",
    "          #  print(len(time_in_bed[time_in_bed['in_sleep']=='yes']))\n",
    "            continue\n",
    "            \n",
    "        sleep_onset = time_in_bed[time_in_bed['in_sleep']=='yes']['datetime'].iloc[0]\n",
    "        sleep_offset = time_in_bed[time_in_bed['in_sleep']=='yes']['datetime'].iloc[-1]+pd.Timedelta(minutes=1)\n",
    "        asleep = time_in_bed.loc[(time_in_bed['datetime']>=sleep_onset) &\n",
    "                                      (time_in_bed['datetime']<=(sleep_offset -pd.Timedelta(minutes=1)))].reset_index(drop=True)  \n",
    "\n",
    "        tib_period = (end_dt-start_dt).total_seconds()/3600 #  ##in hours\n",
    "        sleep_period = (sleep_offset-sleep_onset).total_seconds()/3600#  ###in hours\n",
    "        \n",
    "        just_periods = time_in_bed[['datetime','state','value']]\n",
    "        for_inbed_bows = prepare_for_bows(just_periods, time_in_bed['datetime'].iloc[0], time_in_bed['datetime'].iloc[-1],'value', 'bed_out')\n",
    "        inbed_bows = find_bows(for_inbed_bows, 'value', 'bed_in')\n",
    "        \n",
    "        just_periods = time_in_bed[['datetime','state','in_sleep']]\n",
    "        for_sleep_bows = prepare_for_bows(just_periods, asleep['datetime'].iloc[0], asleep['datetime'].iloc[-1],'in_sleep', 'no')\n",
    "        sleep_bows = find_bows(for_sleep_bows, 'in_sleep', 'yes')\n",
    "\n",
    "        new_row = pd.Series({'participant_id':patient, \n",
    "                             'date':row['date'], \n",
    "                             'cluster_number':row['cluster'],\n",
    "                             'nap_classification':row['classification'],\n",
    "                            'time_in_bed_duration':len(time_in_bed[time_in_bed['state'].isin(['DEEP', 'LIGHT', 'REM','AWAKE'])])/60,\n",
    "                             'tib_onset':start_dt, \n",
    "                             'tib_offset':end_dt,\n",
    "                             'in_bed_bouts':inbed_bows,\n",
    "                             'sleep_onset':sleep_onset, \n",
    "                             'sleep_offset':sleep_offset, \n",
    "                             'sleep_duration':len(asleep[asleep['in_sleep']=='yes'])/60,          \n",
    "                             'sleep_bouts':sleep_bows\n",
    "                            })\n",
    "\n",
    "        if abs(sum(inbed_bows)-new_row['time_in_bed_duration'])>0.008:\n",
    "            print('error in bed bouts in day ',index)\n",
    "            #print(bed_bows,'\\ntib', new_row['Time in bed (hrs)'])\n",
    "            continue \n",
    "            \n",
    "        if abs(sum(sleep_bows)-new_row['sleep_duration'])>0.008:\n",
    "            print('error in sleep bouts in day ',index)\n",
    "          #  print(sleep_bows, sum(sleep_bows), new_row['sleep_duration'])\n",
    "            continue \n",
    "            \n",
    "        old_df = append_row(old_df, new_row)\n",
    "        \n",
    "    return old_df"
   ]
  },
  {
   "cell_type": "code",
   "execution_count": null,
   "id": "1b11b330",
   "metadata": {},
   "outputs": [],
   "source": [
    "naps = dates_used[dates_used['its_a']=='in_bed_nap'][['participant_id', 'date','cluster','datetime', 'end_datetime','length', 'classification']]\n",
    "naps"
   ]
  },
  {
   "cell_type": "code",
   "execution_count": null,
   "id": "80538e64",
   "metadata": {},
   "outputs": [],
   "source": [
    "naps_info = start_naps_table()\n",
    "ids_list = naps['participant_id'].unique()\n",
    "\n",
    "for idx,i in enumerate(ids_list):\n",
    "    if i not in ['']:\n",
    "        print('current length table:', len(naps_info))\n",
    "        print(idx,i, len(naps_info))\n",
    "        \n",
    "        i_df = process_sleep_mat(i, sleep)\n",
    "        naps_info = update_naps_table(naps_info, i_df, i, naps[naps['participant_id']==i])\n",
    "        df2 = pa.Table.from_pandas(naps_info)\n",
    "        pq.write_table(df2, 'naps_info_22_JAN_2024.parquet', compression='BROTLI')\n",
    "        \n",
    "naps_info.head(6)\n",
    "len(naps_info)"
   ]
  },
  {
   "cell_type": "code",
   "execution_count": null,
   "id": "25ae0c96",
   "metadata": {},
   "outputs": [],
   "source": [
    "def get_info(x,classification,column_to_sort,column_to_evaluate,largest_place):\n",
    "    s = x[x['nap_classification']==classification].sort_values(by=[column_to_sort],ascending=False)[column_to_evaluate].to_numpy()\n",
    "    if len(s)>=largest_place:\n",
    "        return s[largest_place-1]\n",
    "    else:\n",
    "        return np.nan\n",
    "    \n",
    "metrics = naps_info.groupby(['participant_id','date']).apply(lambda x: pd.Series({\n",
    "                                    'total_time_in_bed_during_naps':x['time_in_bed_duration'].sum(),\n",
    "                                    'total_time_in_sleep_during_naps':x['sleep_duration'].sum(),\n",
    "                                    'mean_time_in_bed_during_naps':x['time_in_bed_duration'].mean(),\n",
    "                                    'mean_time_in_sleep_during_naps':x['sleep_duration'].mean(),\n",
    "                                    'min_time_in_bed_during_naps':x['time_in_bed_duration'].min(),\n",
    "                                    'min_time_in_sleep_during_naps':x['sleep_duration'].min(),\n",
    "                                    'number_naps': len(x[x['nap_classification']=='diurnal']),\n",
    "    \n",
    "                                    'largest_tib_during_nap': get_info(x,'diurnal','time_in_bed_duration','time_in_bed_duration',1),\n",
    "                                    'largest_tib_during_nap_onset': get_info(x,'diurnal','time_in_bed_duration','tib_onset',1),\n",
    "                                    'largest_sleep_during_nap': get_info(x,'diurnal','sleep_duration','sleep_duration',1),\n",
    "                                    'largest_sleep_during_nap_onset':get_info(x,'diurnal','sleep_duration','sleep_onset',1),\n",
    "                                    \n",
    "                                    '2largest_tib_during_nap': get_info(x,'diurnal','time_in_bed_duration','time_in_bed_duration',2),\n",
    "                                    '2largest_tib__during_nap_onset': get_info(x,'diurnal','time_in_bed_duration','tib_onset',2),\n",
    "                                    '2largest_sleep_during_nap': get_info(x,'diurnal','sleep_duration','sleep_duration',2),\n",
    "                                    '2largest_sleep_during_nap_onset':get_info(x,'diurnal','sleep_duration','sleep_onset',2),    \n",
    "                                            })).reset_index()\n",
    "\n",
    "metrics['largest_tib_during_nap_onset_numeric'] = metrics['largest_tib_during_nap_onset'].dt.hour + (metrics['largest_tib_during_nap_onset'].dt.minute/60)\n",
    "metrics['largest_sleep_during_nap_onset_numeric'] = metrics['largest_sleep_during_nap_onset'].dt.hour + (metrics['largest_sleep_during_nap_onset'].dt.minute/60)\n",
    "metrics['2largest_tib__during_nap_onset_numeric'] = metrics['2largest_tib__during_nap_onset'].dt.hour + (metrics['2largest_tib__during_nap_onset'].dt.minute/60)\n",
    "metrics['2largest_sleep_during_nap_onset_numeric'] = metrics['2largest_sleep_during_nap_onset'].dt.hour + (metrics['2largest_sleep_during_nap_onset'].dt.minute/60)\n",
    "\n",
    "df2 = pa.Table.from_pandas(metrics)\n",
    "pq.write_table(df2, 'naps_metrics_using_cluster_22_JAN_2024.parquet', compression='BROTLI')\n",
    "    \n",
    "metrics"
   ]
  },
  {
   "cell_type": "markdown",
   "id": "c89e13b8",
   "metadata": {},
   "source": [
    "metrics = pd.read_parquet('naps_metrics_using_cluster_22_JAN_2024.parquet')\n",
    "metrics"
   ]
  },
  {
   "cell_type": "code",
   "execution_count": null,
   "id": "590b7daf",
   "metadata": {},
   "outputs": [],
   "source": [
    "metrics.columns"
   ]
  },
  {
   "cell_type": "code",
   "execution_count": null,
   "id": "cce7b191",
   "metadata": {},
   "outputs": [],
   "source": [
    "plt.figure(figsize=(6,4))\n",
    "plt.hist(metrics['number_naps'], bins=range(1,6,1),rwidth=0.9, color='tomato')\n",
    "\n",
    "#plt.yticks([1,3,5,7,9], rotation=0)\n",
    "plt.ylim([0,3000])\n",
    "plt.xticks([1.5,2.5,3.5,4.5,5.5],\n",
    "           ['1','2','3','4','5'], rotation=15)\n",
    "plt.xlabel('Number of In-Bed Naps')\n",
    "plt.show()"
   ]
  },
  {
   "cell_type": "code",
   "execution_count": null,
   "id": "1b7e44c2",
   "metadata": {},
   "outputs": [],
   "source": [
    "plt.figure(figsize=(6,4))\n",
    "plt.hist(metrics['total_time_in_bed_during_naps'], bins=range(0,16,1),rwidth=0.9, color='tomato')\n",
    "\n",
    "#plt.yticks([1,3,5,7,9], rotation=0)\n",
    "# plt.xticks([0.5,1.5,2.5,3.5,4.5,5.5,6.5,7.5,8.5,9.5,10.5,11.5,12.5,13.5,14.5,15.5],\n",
    "#            ['0-0.99','1-1.99','2-2.99','3-3.99','4-4.99','5-5.99','6-6.99',\n",
    "#             '7-7.99','8-8.99','9-9.99','10-10.99','11-11.99','12-12.99','13-13.99','14-14.99','15-15.99'], rotation=35)\n",
    "plt.ylim([0,2000])\n",
    "plt.xlabel('Total TIB during In-Bed Naps \\n for current day (h)')\n",
    "plt.show()"
   ]
  },
  {
   "cell_type": "code",
   "execution_count": null,
   "id": "ce5373d8",
   "metadata": {},
   "outputs": [],
   "source": [
    "plt.figure(figsize=(6,4))\n",
    "plt.hist(metrics['total_time_in_sleep_during_naps'], bins=range(0,16,1),rwidth=0.9, color='tomato')\n",
    "\n",
    "#plt.yticks([1,3,5,7,9], rotation=0)\n",
    "# plt.xticks([0.5,1.5,2.5,3.5,4.5,5.5,6.5,7.5,8.5,9.5,10.5,11.5,12.5,13.5,14.5,15.5],\n",
    "#            ['0-0.99','1-1.99','2-2.99','3-3.99','4-4.99','5-5.99','6-6.99',\n",
    "#             '7-7.99','8-8.99','9-9.99','10-10.99','11-11.99','12-12.99','13-13.99','14-14.99','15-15.99'], rotation=35)\n",
    "plt.ylim([0,2000])\n",
    "plt.xlabel('Total time in sleep during In-Bed Naps \\n for current day (h)')\n",
    "plt.show()"
   ]
  },
  {
   "cell_type": "code",
   "execution_count": null,
   "id": "85aa6868",
   "metadata": {},
   "outputs": [],
   "source": [
    "plt.figure(figsize=(6,4))\n",
    "plt.hist(metrics['mean_time_in_bed_during_naps'], bins=range(0,16,1),rwidth=0.9, color='tomato')\n",
    "\n",
    "#plt.yticks([1,3,5,7,9], rotation=0)\n",
    "# plt.xticks([0.5,1.5,2.5,3.5,4.5,5.5,6.5,7.5,8.5,9.5,10.5,11.5,12.5,13.5,14.5,15.5],\n",
    "#            ['0-0.99','1-1.99','2-2.99','3-3.99','4-4.99','5-5.99','6-6.99',\n",
    "#             '7-7.99','8-8.99','9-9.99','10-10.99','11-11.99','12-12.99','13-13.99','14-14.99','15-15.99'], rotation=35)\n",
    "plt.xlabel('Mean TIB during \\n In-Bed Naps (h)')\n",
    "plt.ylim([0,2000])\n",
    "plt.show()"
   ]
  },
  {
   "cell_type": "code",
   "execution_count": null,
   "id": "9e9065fa",
   "metadata": {},
   "outputs": [],
   "source": [
    "plt.figure(figsize=(6,4))\n",
    "plt.hist(metrics['mean_time_in_sleep_during_naps'], bins=range(0,16,1),rwidth=0.9, color='tomato')\n",
    "\n",
    "#plt.yticks([1,3,5,7,9], rotation=0)\n",
    "# plt.xticks([0.5,1.5,2.5,3.5,4.5,5.5,6.5,7.5,8.5,9.5,10.5,11.5,12.5,13.5,14.5,15.5],\n",
    "#            ['0-0.99','1-1.99','2-2.99','3-3.99','4-4.99','5-5.99','6-6.99',\n",
    "#             '7-7.99','8-8.99','9-9.99','10-10.99','11-11.99','12-12.99','13-13.99','14-14.99','15-15.99'], rotation=35)\n",
    "plt.xlabel('Mean time in sleep during \\n In-Bed Naps (h)')\n",
    "plt.ylim([0,2000])\n",
    "plt.show()"
   ]
  },
  {
   "cell_type": "code",
   "execution_count": null,
   "id": "055004d1",
   "metadata": {},
   "outputs": [],
   "source": [
    "plt.figure(figsize=(6,4))\n",
    "plt.hist(metrics['largest_tib_during_nap'], bins=range(0,16,1),rwidth=0.9, color='tomato')\n",
    "\n",
    "#plt.yticks([1,3,5,7,9], rotation=0)\n",
    "# plt.xticks([0.5,1.5,2.5,3.5,4.5,5.5,6.5,7.5,8.5,9.5,10.5,11.5,12.5,13.5,14.5,15.5],\n",
    "#            ['0-0.99','1-1.99','2-2.99','3-3.99','4-4.99','5-5.99','6-6.99',\n",
    "#             '7-7.99','8-8.99','9-9.99','10-10.99','11-11.99','12-12.99','13-13.99','14-14.99','15-15.99'], rotation=35)\n",
    "plt.xlabel('Largest TIB during \\n In-Bed Naps (h)')\n",
    "plt.ylim([0,2000])\n",
    "plt.show()"
   ]
  },
  {
   "cell_type": "code",
   "execution_count": null,
   "id": "ffae745a",
   "metadata": {},
   "outputs": [],
   "source": [
    "plt.figure(figsize=(6,4))\n",
    "plt.hist(metrics['largest_sleep_during_nap'], bins=range(0,16,1),rwidth=0.9, color='tomato')\n",
    "\n",
    "#plt.yticks([1,3,5,7,9], rotation=0)\n",
    "# plt.xticks([0.5,1.5,2.5,3.5,4.5,5.5,6.5,7.5,8.5,9.5,10.5,11.5,12.5,13.5,14.5,15.5],\n",
    "#            ['0-0.99','1-1.99','2-2.99','3-3.99','4-4.99','5-5.99','6-6.99',\n",
    "#             '7-7.99','8-8.99','9-9.99','10-10.99','11-11.99','12-12.99','13-13.99','14-14.99','15-15.99'], rotation=35)\n",
    "plt.xlabel('Largest time in sleep during \\n In-Bed Naps (h)')\n",
    "plt.ylim([0,2000])\n",
    "plt.show()"
   ]
  },
  {
   "cell_type": "code",
   "execution_count": null,
   "id": "7197d100",
   "metadata": {},
   "outputs": [],
   "source": [
    "plt.figure(figsize=(6,4))\n",
    "plt.hist(metrics['largest_tib_during_nap_onset_numeric'], bins=range(6,23,1),rwidth=0.9, color='tomato')\n",
    "\n",
    "#plt.yticks([1,3,5,7,9], rotation=0)\n",
    "# plt.xticks([0.5,1.5,2.5,3.5,4.5,5.5,6.5,7.5,8.5,9.5,10.5,11.5,12.5,13.5,14.5,15.5],\n",
    "#            ['0-0.99','1-1.99','2-2.99','3-3.99','4-4.99','5-5.99','6-6.99',\n",
    "#             '7-7.99','8-8.99','9-9.99','10-10.99','11-11.99','12-12.99','13-13.99','14-14.99','15-15.99'], rotation=35)\n",
    "plt.xlabel('Onset of largest TIB during \\n In-Bed Naps')\n",
    "plt.ylim([0,700])\n",
    "plt.show()"
   ]
  },
  {
   "cell_type": "code",
   "execution_count": null,
   "id": "05d1e0df",
   "metadata": {},
   "outputs": [],
   "source": [
    "plt.figure(figsize=(6,4))\n",
    "plt.hist(metrics['largest_sleep_during_nap_onset_numeric'], bins=range(6,23,1),rwidth=0.9, color='tomato')\n",
    "\n",
    "#plt.yticks([1,3,5,7,9], rotation=0)\n",
    "# plt.xticks([0.5,1.5,2.5,3.5,4.5,5.5,6.5,7.5,8.5,9.5,10.5,11.5,12.5,13.5,14.5,15.5],\n",
    "#            ['0-0.99','1-1.99','2-2.99','3-3.99','4-4.99','5-5.99','6-6.99',\n",
    "#             '7-7.99','8-8.99','9-9.99','10-10.99','11-11.99','12-12.99','13-13.99','14-14.99','15-15.99'], rotation=35)\n",
    "plt.xlabel('Onset of largest time in sleep during \\n In-Bed Naps')\n",
    "plt.ylim([0,700])\n",
    "plt.show()"
   ]
  },
  {
   "cell_type": "code",
   "execution_count": null,
   "id": "3b861efe",
   "metadata": {},
   "outputs": [],
   "source": [
    "metrics[['number_naps',\n",
    "       'largest_tib_during_nap', 'largest_tib_during_nap_onset',\n",
    "       'largest_sleep_during_nap', 'largest_sleep_during_nap_onset',\n",
    "       'largest_sleep_during_nap_onset_numeric']].sort_values(by=['largest_sleep_during_nap_onset_numeric'], ascending=False).head(4)"
   ]
  },
  {
   "cell_type": "code",
   "execution_count": null,
   "id": "5464c594",
   "metadata": {},
   "outputs": [],
   "source": [
    "br"
   ]
  },
  {
   "cell_type": "code",
   "execution_count": null,
   "id": "e085d1a8",
   "metadata": {},
   "outputs": [],
   "source": [
    "fig = plt.figure(figsize=(6,14))\n",
    "ax1 = fig.add_subplot(111)\n",
    "\n",
    "# sns.boxplot(data=naps_stats[naps_stats['nap_classification']=='nocturnal'], x='time_in_bed_duration', y='participant_id',\n",
    "#             hue='nap_classification', ax=ax1,showfliers =True)\n",
    "sns.boxplot(data=metrics,x='number_naps', y='participant_id', ax=ax1,showfliers =True)\n",
    "\n",
    "ax1.set_xlabel('Number of In-Bed Naps per Day')"
   ]
  },
  {
   "cell_type": "code",
   "execution_count": null,
   "id": "ffb78f06",
   "metadata": {},
   "outputs": [],
   "source": []
  }
 ],
 "metadata": {
  "kernelspec": {
   "display_name": "Python 3 (ipykernel)",
   "language": "python",
   "name": "python3"
  },
  "language_info": {
   "codemirror_mode": {
    "name": "ipython",
    "version": 3
   },
   "file_extension": ".py",
   "mimetype": "text/x-python",
   "name": "python",
   "nbconvert_exporter": "python",
   "pygments_lexer": "ipython3",
   "version": "3.12.4"
  }
 },
 "nbformat": 4,
 "nbformat_minor": 5
}
