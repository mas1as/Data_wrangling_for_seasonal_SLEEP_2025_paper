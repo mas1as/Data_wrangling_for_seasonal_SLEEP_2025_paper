{
 "cells": [
  {
   "cell_type": "code",
   "execution_count": null,
   "id": "0f7185fe",
   "metadata": {},
   "outputs": [],
   "source": [
    "import pandas as pd\n",
    "import numpy as np\n",
    "import matplotlib.pyplot as plt\n",
    "import datetime\n",
    "from matplotlib import colors\n",
    " \n",
    "pd.options.mode.chained_assignment = None  \n",
    "import seaborn as sns\n"
   ]
  },
  {
   "cell_type": "code",
   "execution_count": null,
   "id": "7731d611",
   "metadata": {},
   "outputs": [],
   "source": [
    "sorted_ids = pd.read_csv('sorted_ids_24_JAN_2024.csv')\n",
    "sorted_ids = sorted_ids[['participant_id', 'Days Of Data',  'period_of collection','min_date','max_date']]\n",
    "sorted_ids = sorted_ids.rename(columns={'min_date':'initial_date', 'max_date':'final_date', 'Days Of Data':'days_with_metrics'})\n",
    "sorted_ids"
   ]
  },
  {
   "cell_type": "code",
   "execution_count": null,
   "id": "78d2800b",
   "metadata": {},
   "outputs": [],
   "source": [
    "patient = pd.read_parquet('clinical_data/Patients_lookup.parquet', engine='pyarrow')\n",
    "\n",
    "patient['participant_id'] = patient['id'].apply(lambda x:x[:5])\n",
    "patient = patient[patient['participant_id'].isin(sorted_ids['participant_id'].unique())][['participant_id', 'birth_date', 'gender']]\n",
    "patient = patient.rename(columns={'birth_date':'birth_year'})\n",
    "patient"
   ]
  },
  {
   "cell_type": "code",
   "execution_count": null,
   "id": "9a28fdfa",
   "metadata": {},
   "outputs": [],
   "source": [
    "demographics = pd.read_excel('clinical_data/redcap_demographics_diagnosis_nov16.xlsx')\n",
    "demographics = demographics[['participant_id','Year of birth PwD', 'Gender PwD','Diagnosis', 'alzheimer_diagnosis']]\n",
    "demographics.head(3)"
   ]
  },
  {
   "cell_type": "code",
   "execution_count": null,
   "id": "6375e30b",
   "metadata": {},
   "outputs": [],
   "source": [
    "patient = patient.merge(demographics,on='participant_id',how='left')\n",
    "patient "
   ]
  },
  {
   "cell_type": "code",
   "execution_count": null,
   "id": "d3330873",
   "metadata": {},
   "outputs": [],
   "source": [
    "mmse = pd.read_excel(\"clinical_data/redcap_mmse_baseline_values_nov30.xlsx\")\n",
    "mmse = mmse[mmse['closest_to_initial_day']==True]\n",
    "mmse = mmse.rename(columns={'days_after_min_date':'date_difference_with_baseline_mmse',\n",
    "                           'date_test_mmse':'date_baseline_mmse', 'tot_score_mmse':'baseline_mmse'})\n",
    "mmse"
   ]
  },
  {
   "cell_type": "code",
   "execution_count": null,
   "id": "534cc5fa",
   "metadata": {},
   "outputs": [],
   "source": [
    "npi = pd.read_csv('clinical_data/npi_values_30_NOV_23_for_lme.csv')\n",
    "npi = npi[npi['closest_to_initial_day']==True]\n",
    "npi = npi.rename(columns={'time_in_study':'date_difference_baseline_npi','amended datetime':'date_baseline_npi',\n",
    "                         'npi_total':'baseline_npi_total', 'npi_sleep':'baseline_npi_sleep'})\n",
    "npi = npi[['participant_id','date_baseline_npi', 'date_difference_baseline_npi','min_date', 'baseline_npi_total',\n",
    "           'baseline_npi_sleep']]\n",
    "npi"
   ]
  },
  {
   "cell_type": "code",
   "execution_count": null,
   "id": "64fd8c11",
   "metadata": {},
   "outputs": [],
   "source": [
    "npi2 = pd.read_csv('clinical_data/npi_values_30_NOV_23_for_lme.csv')\n",
    "npi2 = npi2[npi2['closest_to_final_day']==True]\n",
    "npi2 = npi2.rename(columns={'time_in_study':'date_difference_final_npi','amended datetime':'date_final_npi',\n",
    "                         'npi_total':'final_npi_total', 'npi_sleep':'final_npi_sleep'})\n",
    "npi2 = npi2[['participant_id','date_final_npi', 'date_difference_final_npi','min_date', 'final_npi_total',\n",
    "           'final_npi_sleep']]\n",
    "npi2"
   ]
  },
  {
   "cell_type": "code",
   "execution_count": null,
   "id": "03090d38",
   "metadata": {},
   "outputs": [],
   "source": [
    "patient = patient.merge(mmse[['participant_id','date_baseline_mmse', 'baseline_mmse',]],on='participant_id',how='left')\n",
    "patient = patient.merge(npi[['participant_id', 'date_baseline_npi','baseline_npi_total', \n",
    "                             'baseline_npi_sleep']],on='participant_id',how='left')\n",
    "patient = patient.merge(npi2[['participant_id', 'date_final_npi','final_npi_total', \n",
    "                             'final_npi_sleep']],on='participant_id',how='left')\n",
    "patient"
   ]
  },
  {
   "cell_type": "code",
   "execution_count": null,
   "id": "096035f0",
   "metadata": {},
   "outputs": [],
   "source": [
    "final = sorted_ids.merge(patient,on='participant_id')\n",
    "final"
   ]
  },
  {
   "cell_type": "code",
   "execution_count": null,
   "id": "c77b55ae",
   "metadata": {},
   "outputs": [],
   "source": [
    "difference_function = lambda row: pd.to_datetime(row['initial_date'],dayfirst=True).year - row['Year of birth PwD'] if pd.notnull(row['Year of birth PwD']) else pd.to_datetime(row['initial_date'],dayfirst=True).year - float(row['birth_year'])\n",
    "final['age_ate_start'] = final.apply(difference_function, axis=1)\n",
    "final['gender'] = final['gender'].replace('m', 'Man')\n",
    "final['gender'] = final['gender'].replace('f', 'Woman')\n",
    "final['Gender PwD'] = final['Gender PwD'].replace('Male', 'Man')\n",
    "final['Gender PwD'] = final['Gender PwD'].replace('Female', 'Woman')\n",
    "final"
   ]
  },
  {
   "cell_type": "code",
   "execution_count": null,
   "id": "9a1eb1bf",
   "metadata": {},
   "outputs": [],
   "source": [
    "final.columns"
   ]
  },
  {
   "cell_type": "code",
   "execution_count": null,
   "id": "444f8630",
   "metadata": {},
   "outputs": [],
   "source": [
    "final.to_excel('table_demographics_24_JAN_2024.xlsx')"
   ]
  },
  {
   "cell_type": "code",
   "execution_count": null,
   "id": "d87038f8",
   "metadata": {},
   "outputs": [],
   "source": [
    "final['days_with_metrics'].sum()"
   ]
  },
  {
   "cell_type": "code",
   "execution_count": null,
   "id": "e0f3e7a8",
   "metadata": {},
   "outputs": [],
   "source": []
  }
 ],
 "metadata": {
  "kernelspec": {
   "display_name": "Python 3 (ipykernel)",
   "language": "python",
   "name": "python3"
  },
  "language_info": {
   "codemirror_mode": {
    "name": "ipython",
    "version": 3
   },
   "file_extension": ".py",
   "mimetype": "text/x-python",
   "name": "python",
   "nbconvert_exporter": "python",
   "pygments_lexer": "ipython3",
   "version": "3.12.4"
  }
 },
 "nbformat": 4,
 "nbformat_minor": 5
}
