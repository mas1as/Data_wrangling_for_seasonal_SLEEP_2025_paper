{
 "cells": [
  {
   "cell_type": "code",
   "execution_count": null,
   "id": "d62e1ab5",
   "metadata": {},
   "outputs": [],
   "source": [
    "import pandas as pd\n",
    "import numpy as np\n",
    "import matplotlib.pyplot as plt\n",
    "from matplotlib import colors\n",
    "import scipy.stats as stats\n",
    "\n",
    "pd.options.mode.chained_assignment = None  \n",
    "import seaborn as sns\n"
   ]
  },
  {
   "cell_type": "code",
   "execution_count": null,
   "id": "5c4201eb",
   "metadata": {},
   "outputs": [],
   "source": [
    "df_full = pd.read_csv('master_06_FEB_2024.csv')#48873\n",
    "len(df_full)"
   ]
  },
  {
   "cell_type": "code",
   "execution_count": null,
   "id": "10df4c9d",
   "metadata": {},
   "outputs": [],
   "source": [
    "df_full['Z-Scores_ntib'] = stats.zscore(df_full['nocturnal_time_in_bed_period'])\n",
    "df_full"
   ]
  },
  {
   "cell_type": "code",
   "execution_count": null,
   "id": "75eab3ec",
   "metadata": {},
   "outputs": [],
   "source": [
    "df_full[['nocturnal_time_in_bed_duration','nocturnal_time_in_bed_period','sleep_duration','sleep_period']].max()"
   ]
  },
  {
   "cell_type": "code",
   "execution_count": null,
   "id": "eec95085",
   "metadata": {},
   "outputs": [],
   "source": [
    "df_full = df_full[abs(df_full['Z-Scores_ntib']<4)] \n",
    "# df_full = df_full[df_full['nocturnal_time_in_bed_duration']<24] \n",
    "len(df_full)"
   ]
  },
  {
   "cell_type": "code",
   "execution_count": null,
   "id": "7b7db241",
   "metadata": {},
   "outputs": [],
   "source": [
    "count_onset = df_full[['participant_id','tib_onset']].groupby(['tib_onset']).count().sort_values(by='participant_id', ascending=False).reset_index()\n",
    "count_onset.head(3)"
   ]
  },
  {
   "cell_type": "code",
   "execution_count": null,
   "id": "8b057e04",
   "metadata": {},
   "outputs": [],
   "source": [
    "df_full = df_full[df_full['tib_onset']!='2022-04-06 04:23:00+01:00']\n",
    "len(df_full)"
   ]
  },
  {
   "cell_type": "code",
   "execution_count": null,
   "id": "067ca21f",
   "metadata": {},
   "outputs": [],
   "source": [
    "count_offset = df_full[['participant_id','tib_offset']].groupby(['tib_offset']).count().sort_values(by='participant_id', ascending=False).reset_index()\n",
    "count_offset.head(3)"
   ]
  },
  {
   "cell_type": "code",
   "execution_count": null,
   "id": "3354b6a7",
   "metadata": {},
   "outputs": [],
   "source": [
    "df_full = df_full[df_full['tib_offset']!='2022-04-04 06:58:00+01:00']\n",
    "df_full = df_full[df_full['tib_offset']!='2022-04-04 06:57:00+01:00']\n",
    "len(df_full)"
   ]
  },
  {
   "cell_type": "code",
   "execution_count": null,
   "id": "87b369b1",
   "metadata": {},
   "outputs": [],
   "source": [
    "df_full[['participant_id','date','nocturnal_time_in_bed_duration','hours_over_500_lounge', 'before_ntib_mean_light_bedroom',\n",
    "    'ntib_mean_temperature_bedroom','month', 'bimonth', 'metereological_season']].info()"
   ]
  },
  {
   "cell_type": "code",
   "execution_count": null,
   "id": "f1826856",
   "metadata": {},
   "outputs": [],
   "source": [
    "df = df_full[['participant_id','date','nocturnal_time_in_bed_duration','hours_over_500_lounge', 'before_ntib_mean_light_bedroom',\n",
    "    'ntib_mean_temperature_bedroom','month', 'bimonth', 'metereological_season']].dropna()\n",
    "df.info()"
   ]
  },
  {
   "cell_type": "code",
   "execution_count": null,
   "id": "e4fdce7a",
   "metadata": {},
   "outputs": [],
   "source": [
    "seasons = df.groupby(['participant_id','bimonth']).size().reset_index(name='count')\n",
    "seasons"
   ]
  },
  {
   "cell_type": "code",
   "execution_count": null,
   "id": "17c583ce",
   "metadata": {},
   "outputs": [],
   "source": [
    "id_counts = seasons[seasons['count']>=7]['participant_id'].value_counts().reset_index(name='bimonths')\n",
    "ids2 = id_counts[id_counts['bimonths']>=5]['index'].tolist()\n",
    "len(ids2)"
   ]
  },
  {
   "cell_type": "code",
   "execution_count": null,
   "id": "16eb305d",
   "metadata": {},
   "outputs": [],
   "source": [
    "ids2 = sorted(ids2)\n",
    "print(ids2)"
   ]
  },
  {
   "cell_type": "markdown",
   "id": "0be66c20",
   "metadata": {},
   "source": [
    "#np.save('ids_seven_days_each_five_bimonth.npy',ids2)"
   ]
  },
  {
   "cell_type": "code",
   "execution_count": null,
   "id": "ad7713cc",
   "metadata": {},
   "outputs": [],
   "source": [
    "index_no_null = df_full[['participant_id','date','nocturnal_time_in_bed_duration','hours_over_500_lounge', 'before_ntib_mean_light_bedroom',\n",
    "    'ntib_mean_temperature_bedroom','month', 'bimonth', 'metereological_season']].dropna().index\n",
    "selected_id = df_full.loc[index_no_null]\n",
    "selected_id = selected_id [(selected_id ['participant_id'].isin(ids2))].reset_index(drop=True)\n",
    "len(selected_id) #26523"
   ]
  },
  {
   "cell_type": "code",
   "execution_count": null,
   "id": "59d54ef0",
   "metadata": {},
   "outputs": [],
   "source": [
    "selected_id[['participant_id','date','nocturnal_time_in_bed_duration','hours_over_500_lounge', 'before_ntib_mean_light_bedroom',\n",
    "    'ntib_mean_temperature_bedroom','month', 'bimonth', 'metereological_season']].info()"
   ]
  },
  {
   "cell_type": "code",
   "execution_count": null,
   "id": "05fdadbd",
   "metadata": {},
   "outputs": [],
   "source": [
    "selected_id.groupby(['month']).size().reset_index(name='count')"
   ]
  },
  {
   "cell_type": "code",
   "execution_count": null,
   "id": "cf865497",
   "metadata": {},
   "outputs": [],
   "source": [
    "selected_id.groupby(['bimonth']).size().reset_index(name='count')"
   ]
  },
  {
   "cell_type": "code",
   "execution_count": null,
   "id": "6cdbefa1",
   "metadata": {},
   "outputs": [],
   "source": [
    "selected_id.groupby(['metereological_season']).size().reset_index(name='count')"
   ]
  },
  {
   "cell_type": "code",
   "execution_count": null,
   "id": "b5cbefed",
   "metadata": {},
   "outputs": [],
   "source": [
    "sorted_ids = selected_id.groupby(['participant_id']).size().reset_index(name='Days Of Data').sort_values(by=['Days Of Data'],ascending=False).reset_index(drop=True)\n",
    "sorted_ids['new_id'] = sorted_ids.index+1\n",
    "sorted_ids"
   ]
  },
  {
   "cell_type": "code",
   "execution_count": null,
   "id": "b045930a",
   "metadata": {},
   "outputs": [],
   "source": [
    "selected_id = selected_id.drop(['min_date', 'time_in_study','cluster_number','cluster_classification','start_dt_total'], axis=1)\n",
    "\n",
    "initial_dates = selected_id.groupby('participant_id')['date'].min()\n",
    "initial_dates = initial_dates.to_frame().rename(columns={'date':'min_date'}).reset_index()\n",
    "selected_id = selected_id.merge(initial_dates, on=['participant_id'],how='left')\n",
    "\n",
    "selected_id['time_in_study'] = (pd.to_datetime(selected_id['date']) - pd.to_datetime(selected_id['min_date'])).dt.days +1\n",
    "selected_id = selected_id.merge(sorted_ids[['participant_id','new_id']], on=['participant_id'],how='left')\n",
    "\n",
    "final_dates = selected_id.groupby('participant_id')['date'].max()\n",
    "final_dates = final_dates.to_frame().rename(columns={'date':'max_date'}).reset_index()\n",
    "selected_id = selected_id.merge(final_dates, on=['participant_id'],how='left')\n",
    "\n",
    "selected_id = selected_id.sort_values(by=['new_id','date'],ascending=True)\n",
    "selected_id['period_of collection'] = (pd.to_datetime(selected_id['max_date']) - pd.to_datetime(selected_id['min_date'])).dt.days"
   ]
  },
  {
   "cell_type": "code",
   "execution_count": null,
   "id": "55dd3b9b",
   "metadata": {},
   "outputs": [],
   "source": [
    "selected_id.reset_index(drop=True).to_csv('70_participants_metrics_06_FEB_2024.csv')"
   ]
  },
  {
   "cell_type": "code",
   "execution_count": null,
   "id": "63438a78",
   "metadata": {},
   "outputs": [],
   "source": [
    "sorted_ids = sorted_ids.merge(selected_id[['participant_id','period_of collection','max_date','min_date']], on=['participant_id'],how='inner')\n",
    "sorted_ids = sorted_ids.drop_duplicates()"
   ]
  },
  {
   "cell_type": "code",
   "execution_count": null,
   "id": "9683d959",
   "metadata": {},
   "outputs": [],
   "source": [
    "sorted_ids"
   ]
  },
  {
   "cell_type": "code",
   "execution_count": null,
   "id": "d58021e4",
   "metadata": {},
   "outputs": [],
   "source": [
    "sorted_ids.to_csv('sorted_ids_06_FEB_2024.csv')"
   ]
  }
 ],
 "metadata": {
  "kernelspec": {
   "display_name": "Python 3 (ipykernel)",
   "language": "python",
   "name": "python3"
  },
  "language_info": {
   "codemirror_mode": {
    "name": "ipython",
    "version": 3
   },
   "file_extension": ".py",
   "mimetype": "text/x-python",
   "name": "python",
   "nbconvert_exporter": "python",
   "pygments_lexer": "ipython3",
   "version": "3.12.4"
  }
 },
 "nbformat": 4,
 "nbformat_minor": 5
}
