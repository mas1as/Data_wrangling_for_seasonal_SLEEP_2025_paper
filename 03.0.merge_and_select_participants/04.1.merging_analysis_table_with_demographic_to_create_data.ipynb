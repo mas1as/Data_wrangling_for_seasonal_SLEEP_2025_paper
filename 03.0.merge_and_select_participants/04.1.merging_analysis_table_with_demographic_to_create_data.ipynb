{
 "cells": [
  {
   "cell_type": "code",
   "execution_count": null,
   "id": "46aa4943",
   "metadata": {},
   "outputs": [],
   "source": [
    "import pandas as pd\n",
    "import numpy as np\n",
    "import matplotlib.pyplot as plt\n",
    "import matplotlib.cm as cm\n",
    "from matplotlib.gridspec import GridSpec\n",
    "from collections import Counter\n",
    "\n",
    "# import pyarrow as pa\n",
    "# import pyarrow.parquet as pq\n",
    "\n",
    "import seaborn as sns\n",
    "pd.set_option('display.max_columns', 12)"
   ]
  },
  {
   "cell_type": "code",
   "execution_count": null,
   "id": "0b8fb912",
   "metadata": {},
   "outputs": [],
   "source": [
    "metrics = pd.read_csv('70_participants_metrics_06_FEB_2024.csv')\n",
    "metrics.columns.to_list()#'2largest_tib__during_short_ntib'"
   ]
  },
  {
   "cell_type": "code",
   "execution_count": null,
   "id": "f5beaec1",
   "metadata": {},
   "outputs": [],
   "source": [
    "pd.to_datetime(metrics['time_half_light_bathroom']).head(3)"
   ]
  },
  {
   "cell_type": "code",
   "execution_count": null,
   "id": "7ac77250",
   "metadata": {},
   "outputs": [],
   "source": [
    "for col in ['time_half_light_bathroom','time_half_light_bedroom','time_half_light_hallway',\n",
    "            'time_half_light_kitchen','time_half_light_lounge','time_half_loglight_bathroom',\n",
    " 'time_half_loglight_bedroom','time_half_loglight_hallway','time_half_loglight_kitchen','time_half_loglight_lounge',\n",
    " 'time_max_daily_temperature_bathroom','time_max_daily_temperature_bedroom','time_max_daily_temperature_hallway',\n",
    " 'time_max_daily_temperature_kitchen','time_max_daily_temperature_lounge','time_min_daily_temperature_bedroom',\n",
    " 'time_min_daily_temperature_hallway','time_min_daily_temperature_kitchen','time_min_daily_temperature_lounge']:\n",
    "    metrics[col] = pd.to_datetime(metrics[col],errors='coerce')\n",
    "    metrics[col+'_numeric'] = metrics[col].apply(lambda x: (x.hour+(x.minute/60)) if not isinstance(x, float) else np.nan)\n",
    "    metrics = metrics.drop(columns=[col])"
   ]
  },
  {
   "cell_type": "code",
   "execution_count": null,
   "id": "91936965",
   "metadata": {},
   "outputs": [],
   "source": [
    "metrics['time_half_light_bathroom_numeric'].head(3)"
   ]
  },
  {
   "cell_type": "code",
   "execution_count": null,
   "id": "1d2881d0",
   "metadata": {},
   "outputs": [],
   "source": [
    "print(len(metrics.columns))\n",
    "metrics = metrics.drop(columns=[ 'tib_onset',\n",
    "                                 'tib_offset',\n",
    "                                 'midpoint_sleep',\n",
    "                                 'sleep_onset',\n",
    "                                'sleep_offset',\n",
    "                                 'largest_tib_during_nap',\n",
    "                                 'largest_tib_during_nap_onset',\n",
    "                                 'largest_sleep_during_nap_onset',\n",
    "                                 '2largest_tib__during_nap_onset',\n",
    "                                 '2largest_sleep_during_nap_onset',\n",
    "                                 'largest_tib_during_short_ntib_onset',\n",
    "                                 'largest_sleep_during_short_ntib_onset',\n",
    "                                 '2largest_tib__during_short_ntib_onset',\n",
    "                                 '2largest_sleep_during_short_ntib_onset',\n",
    "                                 'in_bed_bouts',\n",
    "                                 'out_bed_bouts',\n",
    "                                 'sleep_bouts',\n",
    "                                 'wake_bouts',\n",
    "                                 'new_id',\n",
    "                                 'Z-Scores_ntib','Unnamed: 0'])\n",
    "print(len(metrics.columns))"
   ]
  },
  {
   "cell_type": "code",
   "execution_count": null,
   "id": "a1dc65b6",
   "metadata": {},
   "outputs": [],
   "source": [
    "whole_df = metrics"
   ]
  },
  {
   "cell_type": "code",
   "execution_count": null,
   "id": "92fde8f2",
   "metadata": {},
   "outputs": [],
   "source": [
    "print(whole_df['total_time_in_bed'].mean(), 8.91, whole_df['midpoint_sleep_numeric'].mean(),3.82)\n",
    "print(whole_df['mean_daily_light_bedroom'].mean(),195.12)"
   ]
  },
  {
   "cell_type": "code",
   "execution_count": null,
   "id": "b2e37354",
   "metadata": {},
   "outputs": [],
   "source": [
    "whole_df['median_duration_of_bed_exits'] = whole_df['median_duration_of_bed_exits'].replace(np.nan, 0.0, regex=True)\n",
    "whole_df['median_wake_bouts'] = whole_df['median_wake_bouts'].replace(np.nan, 0.0, regex=True)"
   ]
  },
  {
   "cell_type": "code",
   "execution_count": null,
   "id": "a5b59c86",
   "metadata": {},
   "outputs": [],
   "source": [
    "[(k,v) for k,v in Counter(whole_df.columns.str[:31].to_list()).items() if v>1]"
   ]
  },
  {
   "cell_type": "code",
   "execution_count": null,
   "id": "2450f641",
   "metadata": {},
   "outputs": [],
   "source": [
    "whole_df = whole_df.rename(columns={ 'after_ntib_geometric_mean_light_bathroom':'after_ntib_geomean_light_bathroom',\n",
    " 'after_ntib_geometric_mean_light_bedroom':'after_ntib_geomean_light_bedroom',\n",
    " 'after_ntib_geometric_mean_light_hallway':'after_ntib_geomean_light_hallway',\n",
    " 'after_ntib_geometric_mean_light_kitchen':'after_ntib_geomean_light_kitchen',\n",
    " 'after_ntib_geometric_mean_light_lounge':'after_ntib_geomean_light_lounge', 'before_ntib_geometric_mean_light_bathroom':'before_ntib_geomean_light_bathroom',\n",
    " 'before_ntib_geometric_mean_light_bedroom':'before_ntib_geomean_light_bedroom',\n",
    " 'before_ntib_geometric_mean_light_hallway':'before_ntib_geomean_light_hallway',\n",
    " 'before_ntib_geometric_mean_light_kitchen':'before_ntib_geomean_light_kitchen',\n",
    " 'before_ntib_geometric_mean_light_lounge':'before_ntib_geomean_light_lounge',\n",
    "'largest_sleep_during_short_ntib_onset_numeric':'lgt_sl_dur_shntib_onsetnum',\n",
    " '2largest_sleep_during_short_ntib_onset_numeric':'2lgt_sl_dur_shntib_onsetnum'\n",
    "})"
   ]
  },
  {
   "cell_type": "code",
   "execution_count": null,
   "id": "df3c9752",
   "metadata": {},
   "outputs": [],
   "source": [
    "[(k,v) for k,v in Counter(whole_df.columns.str[:37].to_list()).items() if v>1]"
   ]
  },
  {
   "cell_type": "code",
   "execution_count": null,
   "id": "37f1c781",
   "metadata": {},
   "outputs": [],
   "source": [
    "demographics = pd.read_excel('table_demographics_24_JAN_2024.xlsx') \n",
    "#print(demographics['diagnosis'].unique())\n",
    "for col in demographics.columns:\n",
    "    if demographics[col].isna().sum()>0:\n",
    "        print(col,demographics[col].isna().sum())\n",
    "#         demographics[col] = demographics[col].replace(np.nan, '.', regex=True)"
   ]
  },
  {
   "cell_type": "code",
   "execution_count": null,
   "id": "3f0996c2",
   "metadata": {},
   "outputs": [],
   "source": [
    "demographics.columns"
   ]
  },
  {
   "cell_type": "code",
   "execution_count": null,
   "id": "d3a17f84",
   "metadata": {},
   "outputs": [],
   "source": [
    "whole_df = whole_df.merge(demographics[['participant_id','birth_year', 'gender', 'diagnosis',\n",
    "       'alzheimer_diagnosis',  'baseline_mmse',\n",
    "       'baseline_npi_total', 'baseline_npi_sleep',\n",
    "       'date_final_npi', 'final_npi_total', 'final_npi_sleep',\n",
    "       'age_ate_start','days_with_metrics', 'period_of collection',\n",
    "       ]], on=['participant_id'],how='left')\n",
    "\n",
    "whole_df['age_at_metrics_date'] = pd.to_datetime(whole_df['date']).dt.year - whole_df['birth_year']\n",
    "whole_df['initial_age'] = pd.to_datetime(whole_df['min_date']).dt.year - whole_df['birth_year']\n",
    "\n",
    "whole_df[['age_at_metrics_date','initial_age']]#.columns[whole_df.isna().any()].tolist()"
   ]
  },
  {
   "cell_type": "code",
   "execution_count": null,
   "id": "f1f7dc80",
   "metadata": {},
   "outputs": [],
   "source": [
    "new_diagnoses = pd.read_excel('clinical_data/comparison_between_clinical_research_diagnosis_13_FEB_2024.xlsx') \n",
    "new_diagnoses.columns\n",
    "\n",
    "whole_df = whole_df.merge(new_diagnoses[['participant_id','Research Diagnosis', 'Analysis Diagnosis',\n",
    "        'research_alzheimer_diagnosis','analysis_alzheimer_diagnosis']], on=['participant_id'],how='left')\n",
    "\n",
    "        \n",
    "whole_df[['participant_id','Research Diagnosis', 'Analysis Diagnosis','alzheimer_diagnosis',\n",
    "        'research_alzheimer_diagnosis','analysis_alzheimer_diagnosis']]"
   ]
  },
  {
   "cell_type": "code",
   "execution_count": null,
   "id": "166d33cf",
   "metadata": {},
   "outputs": [],
   "source": [
    "len(whole_df['participant_id'].unique())"
   ]
  },
  {
   "cell_type": "markdown",
   "id": "e1b55878",
   "metadata": {},
   "source": [
    "for col in whole_df.columns:\n",
    "    print(col,whole_df[col].info())"
   ]
  },
  {
   "cell_type": "code",
   "execution_count": null,
   "id": "c24aee20",
   "metadata": {},
   "outputs": [],
   "source": [
    "whole_df.to_csv('analysis_table_with_demographics_13_FEB_2024.csv',index=False)#26523"
   ]
  },
  {
   "cell_type": "code",
   "execution_count": null,
   "id": "d1c371e3",
   "metadata": {},
   "outputs": [],
   "source": [
    "whole_df"
   ]
  }
 ],
 "metadata": {
  "kernelspec": {
   "display_name": "Python 3 (ipykernel)",
   "language": "python",
   "name": "python3"
  },
  "language_info": {
   "codemirror_mode": {
    "name": "ipython",
    "version": 3
   },
   "file_extension": ".py",
   "mimetype": "text/x-python",
   "name": "python",
   "nbconvert_exporter": "python",
   "pygments_lexer": "ipython3",
   "version": "3.12.4"
  }
 },
 "nbformat": 4,
 "nbformat_minor": 5
}
